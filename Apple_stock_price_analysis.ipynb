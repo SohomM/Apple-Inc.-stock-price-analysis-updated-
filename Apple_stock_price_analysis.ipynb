{
  "nbformat": 4,
  "nbformat_minor": 0,
  "metadata": {
    "colab": {
      "provenance": []
    },
    "kernelspec": {
      "name": "python3",
      "display_name": "Python 3"
    },
    "language_info": {
      "name": "python"
    }
  },
  "cells": [
    {
      "cell_type": "markdown",
      "source": [
        "**STOCK PRICE PREDICTION**\n",
        "\n",
        "It uses artificial neyral network called long short term memory LSTM to predict the closing stock price of a corporation (Aplle Inc.) using the past 60 day stock price"
      ],
      "metadata": {
        "id": "OEIrbvYAHlJa"
      }
    },
    {
      "cell_type": "code",
      "execution_count": 2,
      "metadata": {
        "id": "x0uh7_6RHgiU"
      },
      "outputs": [],
      "source": [
        "import pandas as pd\n",
        "import matplotlib.pyplot as plt\n",
        "plt.style.use('fivethirtyeight')\n",
        "import numpy as np\n",
        "import math\n",
        "import pandas_datareader as web\n",
        "from sklearn.preprocessing import MinMaxScaler\n",
        "from  keras.models import Sequential\n",
        "from keras.layers import Dense, LSTM\n",
        "import yfinance as yf"
      ]
    },
    {
      "cell_type": "code",
      "source": [
        "\n",
        "\n",
        "# getting stock quote\n",
        "df = yf.download('AAPL', start='2008-01-01', end='2025-04-04')\n",
        "# Use yf.download instead of web.DataReader\n",
        "df"
      ],
      "metadata": {
        "colab": {
          "base_uri": "https://localhost:8080/",
          "height": 503
        },
        "id": "Rr58MpoWJs5e",
        "outputId": "a2b06a88-76ba-4883-f454-4a52e78668b4"
      },
      "execution_count": 37,
      "outputs": [
        {
          "output_type": "stream",
          "name": "stderr",
          "text": [
            "\r[*********************100%***********************]  1 of 1 completed\n"
          ]
        },
        {
          "output_type": "execute_result",
          "data": {
            "text/plain": [
              "Price            Close        High         Low        Open      Volume\n",
              "Ticker            AAPL        AAPL        AAPL        AAPL        AAPL\n",
              "Date                                                                  \n",
              "2008-01-02    5.863436    6.026544    5.794523    5.996752  1079178800\n",
              "2008-01-03    5.866146    5.940176    5.798736    5.880591   842066400\n",
              "2008-01-04    5.418353    5.808065    5.383445    5.761420  1455832000\n",
              "2008-01-07    5.345827    5.525185    5.122833    5.454464  2072193200\n",
              "2008-01-08    5.153529    5.490879    5.139987    5.421061  1523816000\n",
              "...                ...         ...         ...         ...         ...\n",
              "2025-03-28  217.899994  223.809998  217.679993  221.669998    39818600\n",
              "2025-03-31  222.130005  225.619995  216.229996  217.009995    65299300\n",
              "2025-04-01  223.190002  223.679993  218.899994  219.809998    36412700\n",
              "2025-04-02  223.889999  225.190002  221.020004  221.320007    35905900\n",
              "2025-04-03  203.190002  207.490005  201.250000  205.539993   103419000\n",
              "\n",
              "[4342 rows x 5 columns]"
            ],
            "text/html": [
              "\n",
              "  <div id=\"df-c1a30291-35ea-43c1-8d3b-c910dfed45c6\" class=\"colab-df-container\">\n",
              "    <div>\n",
              "<style scoped>\n",
              "    .dataframe tbody tr th:only-of-type {\n",
              "        vertical-align: middle;\n",
              "    }\n",
              "\n",
              "    .dataframe tbody tr th {\n",
              "        vertical-align: top;\n",
              "    }\n",
              "\n",
              "    .dataframe thead tr th {\n",
              "        text-align: left;\n",
              "    }\n",
              "\n",
              "    .dataframe thead tr:last-of-type th {\n",
              "        text-align: right;\n",
              "    }\n",
              "</style>\n",
              "<table border=\"1\" class=\"dataframe\">\n",
              "  <thead>\n",
              "    <tr>\n",
              "      <th>Price</th>\n",
              "      <th>Close</th>\n",
              "      <th>High</th>\n",
              "      <th>Low</th>\n",
              "      <th>Open</th>\n",
              "      <th>Volume</th>\n",
              "    </tr>\n",
              "    <tr>\n",
              "      <th>Ticker</th>\n",
              "      <th>AAPL</th>\n",
              "      <th>AAPL</th>\n",
              "      <th>AAPL</th>\n",
              "      <th>AAPL</th>\n",
              "      <th>AAPL</th>\n",
              "    </tr>\n",
              "    <tr>\n",
              "      <th>Date</th>\n",
              "      <th></th>\n",
              "      <th></th>\n",
              "      <th></th>\n",
              "      <th></th>\n",
              "      <th></th>\n",
              "    </tr>\n",
              "  </thead>\n",
              "  <tbody>\n",
              "    <tr>\n",
              "      <th>2008-01-02</th>\n",
              "      <td>5.863436</td>\n",
              "      <td>6.026544</td>\n",
              "      <td>5.794523</td>\n",
              "      <td>5.996752</td>\n",
              "      <td>1079178800</td>\n",
              "    </tr>\n",
              "    <tr>\n",
              "      <th>2008-01-03</th>\n",
              "      <td>5.866146</td>\n",
              "      <td>5.940176</td>\n",
              "      <td>5.798736</td>\n",
              "      <td>5.880591</td>\n",
              "      <td>842066400</td>\n",
              "    </tr>\n",
              "    <tr>\n",
              "      <th>2008-01-04</th>\n",
              "      <td>5.418353</td>\n",
              "      <td>5.808065</td>\n",
              "      <td>5.383445</td>\n",
              "      <td>5.761420</td>\n",
              "      <td>1455832000</td>\n",
              "    </tr>\n",
              "    <tr>\n",
              "      <th>2008-01-07</th>\n",
              "      <td>5.345827</td>\n",
              "      <td>5.525185</td>\n",
              "      <td>5.122833</td>\n",
              "      <td>5.454464</td>\n",
              "      <td>2072193200</td>\n",
              "    </tr>\n",
              "    <tr>\n",
              "      <th>2008-01-08</th>\n",
              "      <td>5.153529</td>\n",
              "      <td>5.490879</td>\n",
              "      <td>5.139987</td>\n",
              "      <td>5.421061</td>\n",
              "      <td>1523816000</td>\n",
              "    </tr>\n",
              "    <tr>\n",
              "      <th>...</th>\n",
              "      <td>...</td>\n",
              "      <td>...</td>\n",
              "      <td>...</td>\n",
              "      <td>...</td>\n",
              "      <td>...</td>\n",
              "    </tr>\n",
              "    <tr>\n",
              "      <th>2025-03-28</th>\n",
              "      <td>217.899994</td>\n",
              "      <td>223.809998</td>\n",
              "      <td>217.679993</td>\n",
              "      <td>221.669998</td>\n",
              "      <td>39818600</td>\n",
              "    </tr>\n",
              "    <tr>\n",
              "      <th>2025-03-31</th>\n",
              "      <td>222.130005</td>\n",
              "      <td>225.619995</td>\n",
              "      <td>216.229996</td>\n",
              "      <td>217.009995</td>\n",
              "      <td>65299300</td>\n",
              "    </tr>\n",
              "    <tr>\n",
              "      <th>2025-04-01</th>\n",
              "      <td>223.190002</td>\n",
              "      <td>223.679993</td>\n",
              "      <td>218.899994</td>\n",
              "      <td>219.809998</td>\n",
              "      <td>36412700</td>\n",
              "    </tr>\n",
              "    <tr>\n",
              "      <th>2025-04-02</th>\n",
              "      <td>223.889999</td>\n",
              "      <td>225.190002</td>\n",
              "      <td>221.020004</td>\n",
              "      <td>221.320007</td>\n",
              "      <td>35905900</td>\n",
              "    </tr>\n",
              "    <tr>\n",
              "      <th>2025-04-03</th>\n",
              "      <td>203.190002</td>\n",
              "      <td>207.490005</td>\n",
              "      <td>201.250000</td>\n",
              "      <td>205.539993</td>\n",
              "      <td>103419000</td>\n",
              "    </tr>\n",
              "  </tbody>\n",
              "</table>\n",
              "<p>4342 rows × 5 columns</p>\n",
              "</div>\n",
              "    <div class=\"colab-df-buttons\">\n",
              "\n",
              "  <div class=\"colab-df-container\">\n",
              "    <button class=\"colab-df-convert\" onclick=\"convertToInteractive('df-c1a30291-35ea-43c1-8d3b-c910dfed45c6')\"\n",
              "            title=\"Convert this dataframe to an interactive table.\"\n",
              "            style=\"display:none;\">\n",
              "\n",
              "  <svg xmlns=\"http://www.w3.org/2000/svg\" height=\"24px\" viewBox=\"0 -960 960 960\">\n",
              "    <path d=\"M120-120v-720h720v720H120Zm60-500h600v-160H180v160Zm220 220h160v-160H400v160Zm0 220h160v-160H400v160ZM180-400h160v-160H180v160Zm440 0h160v-160H620v160ZM180-180h160v-160H180v160Zm440 0h160v-160H620v160Z\"/>\n",
              "  </svg>\n",
              "    </button>\n",
              "\n",
              "  <style>\n",
              "    .colab-df-container {\n",
              "      display:flex;\n",
              "      gap: 12px;\n",
              "    }\n",
              "\n",
              "    .colab-df-convert {\n",
              "      background-color: #E8F0FE;\n",
              "      border: none;\n",
              "      border-radius: 50%;\n",
              "      cursor: pointer;\n",
              "      display: none;\n",
              "      fill: #1967D2;\n",
              "      height: 32px;\n",
              "      padding: 0 0 0 0;\n",
              "      width: 32px;\n",
              "    }\n",
              "\n",
              "    .colab-df-convert:hover {\n",
              "      background-color: #E2EBFA;\n",
              "      box-shadow: 0px 1px 2px rgba(60, 64, 67, 0.3), 0px 1px 3px 1px rgba(60, 64, 67, 0.15);\n",
              "      fill: #174EA6;\n",
              "    }\n",
              "\n",
              "    .colab-df-buttons div {\n",
              "      margin-bottom: 4px;\n",
              "    }\n",
              "\n",
              "    [theme=dark] .colab-df-convert {\n",
              "      background-color: #3B4455;\n",
              "      fill: #D2E3FC;\n",
              "    }\n",
              "\n",
              "    [theme=dark] .colab-df-convert:hover {\n",
              "      background-color: #434B5C;\n",
              "      box-shadow: 0px 1px 3px 1px rgba(0, 0, 0, 0.15);\n",
              "      filter: drop-shadow(0px 1px 2px rgba(0, 0, 0, 0.3));\n",
              "      fill: #FFFFFF;\n",
              "    }\n",
              "  </style>\n",
              "\n",
              "    <script>\n",
              "      const buttonEl =\n",
              "        document.querySelector('#df-c1a30291-35ea-43c1-8d3b-c910dfed45c6 button.colab-df-convert');\n",
              "      buttonEl.style.display =\n",
              "        google.colab.kernel.accessAllowed ? 'block' : 'none';\n",
              "\n",
              "      async function convertToInteractive(key) {\n",
              "        const element = document.querySelector('#df-c1a30291-35ea-43c1-8d3b-c910dfed45c6');\n",
              "        const dataTable =\n",
              "          await google.colab.kernel.invokeFunction('convertToInteractive',\n",
              "                                                    [key], {});\n",
              "        if (!dataTable) return;\n",
              "\n",
              "        const docLinkHtml = 'Like what you see? Visit the ' +\n",
              "          '<a target=\"_blank\" href=https://colab.research.google.com/notebooks/data_table.ipynb>data table notebook</a>'\n",
              "          + ' to learn more about interactive tables.';\n",
              "        element.innerHTML = '';\n",
              "        dataTable['output_type'] = 'display_data';\n",
              "        await google.colab.output.renderOutput(dataTable, element);\n",
              "        const docLink = document.createElement('div');\n",
              "        docLink.innerHTML = docLinkHtml;\n",
              "        element.appendChild(docLink);\n",
              "      }\n",
              "    </script>\n",
              "  </div>\n",
              "\n",
              "\n",
              "    <div id=\"df-246588b2-0eab-4bfb-9d89-0f508844b625\">\n",
              "      <button class=\"colab-df-quickchart\" onclick=\"quickchart('df-246588b2-0eab-4bfb-9d89-0f508844b625')\"\n",
              "                title=\"Suggest charts\"\n",
              "                style=\"display:none;\">\n",
              "\n",
              "<svg xmlns=\"http://www.w3.org/2000/svg\" height=\"24px\"viewBox=\"0 0 24 24\"\n",
              "     width=\"24px\">\n",
              "    <g>\n",
              "        <path d=\"M19 3H5c-1.1 0-2 .9-2 2v14c0 1.1.9 2 2 2h14c1.1 0 2-.9 2-2V5c0-1.1-.9-2-2-2zM9 17H7v-7h2v7zm4 0h-2V7h2v10zm4 0h-2v-4h2v4z\"/>\n",
              "    </g>\n",
              "</svg>\n",
              "      </button>\n",
              "\n",
              "<style>\n",
              "  .colab-df-quickchart {\n",
              "      --bg-color: #E8F0FE;\n",
              "      --fill-color: #1967D2;\n",
              "      --hover-bg-color: #E2EBFA;\n",
              "      --hover-fill-color: #174EA6;\n",
              "      --disabled-fill-color: #AAA;\n",
              "      --disabled-bg-color: #DDD;\n",
              "  }\n",
              "\n",
              "  [theme=dark] .colab-df-quickchart {\n",
              "      --bg-color: #3B4455;\n",
              "      --fill-color: #D2E3FC;\n",
              "      --hover-bg-color: #434B5C;\n",
              "      --hover-fill-color: #FFFFFF;\n",
              "      --disabled-bg-color: #3B4455;\n",
              "      --disabled-fill-color: #666;\n",
              "  }\n",
              "\n",
              "  .colab-df-quickchart {\n",
              "    background-color: var(--bg-color);\n",
              "    border: none;\n",
              "    border-radius: 50%;\n",
              "    cursor: pointer;\n",
              "    display: none;\n",
              "    fill: var(--fill-color);\n",
              "    height: 32px;\n",
              "    padding: 0;\n",
              "    width: 32px;\n",
              "  }\n",
              "\n",
              "  .colab-df-quickchart:hover {\n",
              "    background-color: var(--hover-bg-color);\n",
              "    box-shadow: 0 1px 2px rgba(60, 64, 67, 0.3), 0 1px 3px 1px rgba(60, 64, 67, 0.15);\n",
              "    fill: var(--button-hover-fill-color);\n",
              "  }\n",
              "\n",
              "  .colab-df-quickchart-complete:disabled,\n",
              "  .colab-df-quickchart-complete:disabled:hover {\n",
              "    background-color: var(--disabled-bg-color);\n",
              "    fill: var(--disabled-fill-color);\n",
              "    box-shadow: none;\n",
              "  }\n",
              "\n",
              "  .colab-df-spinner {\n",
              "    border: 2px solid var(--fill-color);\n",
              "    border-color: transparent;\n",
              "    border-bottom-color: var(--fill-color);\n",
              "    animation:\n",
              "      spin 1s steps(1) infinite;\n",
              "  }\n",
              "\n",
              "  @keyframes spin {\n",
              "    0% {\n",
              "      border-color: transparent;\n",
              "      border-bottom-color: var(--fill-color);\n",
              "      border-left-color: var(--fill-color);\n",
              "    }\n",
              "    20% {\n",
              "      border-color: transparent;\n",
              "      border-left-color: var(--fill-color);\n",
              "      border-top-color: var(--fill-color);\n",
              "    }\n",
              "    30% {\n",
              "      border-color: transparent;\n",
              "      border-left-color: var(--fill-color);\n",
              "      border-top-color: var(--fill-color);\n",
              "      border-right-color: var(--fill-color);\n",
              "    }\n",
              "    40% {\n",
              "      border-color: transparent;\n",
              "      border-right-color: var(--fill-color);\n",
              "      border-top-color: var(--fill-color);\n",
              "    }\n",
              "    60% {\n",
              "      border-color: transparent;\n",
              "      border-right-color: var(--fill-color);\n",
              "    }\n",
              "    80% {\n",
              "      border-color: transparent;\n",
              "      border-right-color: var(--fill-color);\n",
              "      border-bottom-color: var(--fill-color);\n",
              "    }\n",
              "    90% {\n",
              "      border-color: transparent;\n",
              "      border-bottom-color: var(--fill-color);\n",
              "    }\n",
              "  }\n",
              "</style>\n",
              "\n",
              "      <script>\n",
              "        async function quickchart(key) {\n",
              "          const quickchartButtonEl =\n",
              "            document.querySelector('#' + key + ' button');\n",
              "          quickchartButtonEl.disabled = true;  // To prevent multiple clicks.\n",
              "          quickchartButtonEl.classList.add('colab-df-spinner');\n",
              "          try {\n",
              "            const charts = await google.colab.kernel.invokeFunction(\n",
              "                'suggestCharts', [key], {});\n",
              "          } catch (error) {\n",
              "            console.error('Error during call to suggestCharts:', error);\n",
              "          }\n",
              "          quickchartButtonEl.classList.remove('colab-df-spinner');\n",
              "          quickchartButtonEl.classList.add('colab-df-quickchart-complete');\n",
              "        }\n",
              "        (() => {\n",
              "          let quickchartButtonEl =\n",
              "            document.querySelector('#df-246588b2-0eab-4bfb-9d89-0f508844b625 button');\n",
              "          quickchartButtonEl.style.display =\n",
              "            google.colab.kernel.accessAllowed ? 'block' : 'none';\n",
              "        })();\n",
              "      </script>\n",
              "    </div>\n",
              "\n",
              "  <div id=\"id_79492be2-231f-47a9-9618-303694d0c763\">\n",
              "    <style>\n",
              "      .colab-df-generate {\n",
              "        background-color: #E8F0FE;\n",
              "        border: none;\n",
              "        border-radius: 50%;\n",
              "        cursor: pointer;\n",
              "        display: none;\n",
              "        fill: #1967D2;\n",
              "        height: 32px;\n",
              "        padding: 0 0 0 0;\n",
              "        width: 32px;\n",
              "      }\n",
              "\n",
              "      .colab-df-generate:hover {\n",
              "        background-color: #E2EBFA;\n",
              "        box-shadow: 0px 1px 2px rgba(60, 64, 67, 0.3), 0px 1px 3px 1px rgba(60, 64, 67, 0.15);\n",
              "        fill: #174EA6;\n",
              "      }\n",
              "\n",
              "      [theme=dark] .colab-df-generate {\n",
              "        background-color: #3B4455;\n",
              "        fill: #D2E3FC;\n",
              "      }\n",
              "\n",
              "      [theme=dark] .colab-df-generate:hover {\n",
              "        background-color: #434B5C;\n",
              "        box-shadow: 0px 1px 3px 1px rgba(0, 0, 0, 0.15);\n",
              "        filter: drop-shadow(0px 1px 2px rgba(0, 0, 0, 0.3));\n",
              "        fill: #FFFFFF;\n",
              "      }\n",
              "    </style>\n",
              "    <button class=\"colab-df-generate\" onclick=\"generateWithVariable('df')\"\n",
              "            title=\"Generate code using this dataframe.\"\n",
              "            style=\"display:none;\">\n",
              "\n",
              "  <svg xmlns=\"http://www.w3.org/2000/svg\" height=\"24px\"viewBox=\"0 0 24 24\"\n",
              "       width=\"24px\">\n",
              "    <path d=\"M7,19H8.4L18.45,9,17,7.55,7,17.6ZM5,21V16.75L18.45,3.32a2,2,0,0,1,2.83,0l1.4,1.43a1.91,1.91,0,0,1,.58,1.4,1.91,1.91,0,0,1-.58,1.4L9.25,21ZM18.45,9,17,7.55Zm-12,3A5.31,5.31,0,0,0,4.9,8.1,5.31,5.31,0,0,0,1,6.5,5.31,5.31,0,0,0,4.9,4.9,5.31,5.31,0,0,0,6.5,1,5.31,5.31,0,0,0,8.1,4.9,5.31,5.31,0,0,0,12,6.5,5.46,5.46,0,0,0,6.5,12Z\"/>\n",
              "  </svg>\n",
              "    </button>\n",
              "    <script>\n",
              "      (() => {\n",
              "      const buttonEl =\n",
              "        document.querySelector('#id_79492be2-231f-47a9-9618-303694d0c763 button.colab-df-generate');\n",
              "      buttonEl.style.display =\n",
              "        google.colab.kernel.accessAllowed ? 'block' : 'none';\n",
              "\n",
              "      buttonEl.onclick = () => {\n",
              "        google.colab.notebook.generateWithVariable('df');\n",
              "      }\n",
              "      })();\n",
              "    </script>\n",
              "  </div>\n",
              "\n",
              "    </div>\n",
              "  </div>\n"
            ],
            "application/vnd.google.colaboratory.intrinsic+json": {
              "type": "dataframe",
              "variable_name": "df",
              "summary": "{\n  \"name\": \"df\",\n  \"rows\": 4342,\n  \"fields\": [\n    {\n      \"column\": [\n        \"Date\",\n        \"\"\n      ],\n      \"properties\": {\n        \"dtype\": \"date\",\n        \"min\": \"2008-01-02 00:00:00\",\n        \"max\": \"2025-04-03 00:00:00\",\n        \"num_unique_values\": 4342,\n        \"samples\": [\n          \"2016-08-26 00:00:00\",\n          \"2017-09-11 00:00:00\",\n          \"2018-08-20 00:00:00\"\n        ],\n        \"semantic_type\": \"\",\n        \"description\": \"\"\n      }\n    },\n    {\n      \"column\": [\n        \"Close\",\n        \"AAPL\"\n      ],\n      \"properties\": {\n        \"dtype\": \"number\",\n        \"std\": 67.5952271791648,\n        \"min\": 2.3533191680908203,\n        \"max\": 258.7355041503906,\n        \"num_unique_values\": 4277,\n        \"samples\": [\n          6.688302040100098,\n          4.974470138549805,\n          41.661834716796875\n        ],\n        \"semantic_type\": \"\",\n        \"description\": \"\"\n      }\n    },\n    {\n      \"column\": [\n        \"High\",\n        \"AAPL\"\n      ],\n      \"properties\": {\n        \"dtype\": \"number\",\n        \"std\": 68.24329644833561,\n        \"min\": 2.467674644480381,\n        \"max\": 259.81433504408284,\n        \"num_unique_values\": 4342,\n        \"samples\": [\n          24.838451882348373,\n          37.9441600115112,\n          52.09718294178284\n        ],\n        \"semantic_type\": \"\",\n        \"description\": \"\"\n      }\n    },\n    {\n      \"column\": [\n        \"Low\",\n        \"AAPL\"\n      ],\n      \"properties\": {\n        \"dtype\": \"number\",\n        \"std\": 66.86014581353085,\n        \"min\": 2.3533191680908203,\n        \"max\": 257.34704665632455,\n        \"num_unique_values\": 4342,\n        \"samples\": [\n          24.461100820945433,\n          37.43839313069016,\n          51.129781133726645\n        ],\n        \"semantic_type\": \"\",\n        \"description\": \"\"\n      }\n    },\n    {\n      \"column\": [\n        \"Open\",\n        \"AAPL\"\n      ],\n      \"properties\": {\n        \"dtype\": \"number\",\n        \"std\": 67.52072792386225,\n        \"min\": 2.3891309417445146,\n        \"max\": 257.90642916266114,\n        \"num_unique_values\": 4342,\n        \"samples\": [\n          24.71420364118509,\n          37.58122534500925,\n          51.840479502097914\n        ],\n        \"semantic_type\": \"\",\n        \"description\": \"\"\n      }\n    },\n    {\n      \"column\": [\n        \"Volume\",\n        \"AAPL\"\n      ],\n      \"properties\": {\n        \"dtype\": \"number\",\n        \"std\": 324822116,\n        \"min\": 23234700,\n        \"max\": 3372969600,\n        \"num_unique_values\": 4331,\n        \"samples\": [\n          95042800,\n          656325600,\n          271742800\n        ],\n        \"semantic_type\": \"\",\n        \"description\": \"\"\n      }\n    }\n  ]\n}"
            }
          },
          "metadata": {},
          "execution_count": 37
        }
      ]
    },
    {
      "cell_type": "code",
      "source": [
        "#getting no. of rows,columns\n",
        "df.shape"
      ],
      "metadata": {
        "colab": {
          "base_uri": "https://localhost:8080/"
        },
        "id": "ECRdmUv1KLYh",
        "outputId": "86cddd1f-25bc-4b50-89c9-72c49df5fea2"
      },
      "execution_count": 38,
      "outputs": [
        {
          "output_type": "execute_result",
          "data": {
            "text/plain": [
              "(4342, 5)"
            ]
          },
          "metadata": {},
          "execution_count": 38
        }
      ]
    },
    {
      "cell_type": "code",
      "source": [
        "#visualising closing price history\n",
        "plt.figure(figsize=(16,8))\n",
        "plt.title('close price history')\n",
        "plt.plot(df['Close'])\n",
        "plt.xlabel('date -->', fontsize=14)\n",
        "plt.ylabel('close price USD ($) -->', fontsize=14)\n",
        "plt.show()"
      ],
      "metadata": {
        "colab": {
          "base_uri": "https://localhost:8080/",
          "height": 723
        },
        "id": "R1O_fl5hKQ-s",
        "outputId": "2f636e70-0a54-4de7-b47d-d75c9c18f000"
      },
      "execution_count": 39,
      "outputs": [
        {
          "output_type": "display_data",
          "data": {
            "text/plain": [
              "<Figure size 1600x800 with 1 Axes>"
            ],
            "image/png": "[encoded data removed]"
          },
          "metadata": {}
        }
      ]
    },
    {
      "cell_type": "code",
      "source": [
        "#create new dataframe with only close column\n",
        "data = df.filter(['Close'])\n",
        "data = df[['Close']]\n",
        "#convert dataframe to numpy array\n",
        "dataset = data.values\n",
        "#get number of rows to train model\n",
        "training_data_len = math.ceil(len(dataset)*.8) #80% training\n",
        "training_data_len"
      ],
      "metadata": {
        "colab": {
          "base_uri": "https://localhost:8080/"
        },
        "id": "LVQQiIgeLX-O",
        "outputId": "ffd75afd-b837-4319-afef-ac673d4f582c"
      },
      "execution_count": 43,
      "outputs": [
        {
          "output_type": "execute_result",
          "data": {
            "text/plain": [
              "3474"
            ]
          },
          "metadata": {},
          "execution_count": 43
        }
      ]
    },
    {
      "cell_type": "code",
      "source": [
        "\n",
        "#scaling data\n",
        "scaler = MinMaxScaler(feature_range=(0,1))\n",
        "scaled_data = scaler.fit_transform(dataset)\n",
        "print(scaled_data)"
      ],
      "metadata": {
        "colab": {
          "base_uri": "https://localhost:8080/"
        },
        "id": "RCd19k48MFPz",
        "outputId": "6650a951-d55b-4aef-b6eb-24a0d913e275"
      },
      "execution_count": 44,
      "outputs": [
        {
          "output_type": "stream",
          "name": "stdout",
          "text": [
            "[[0.01369096]\n",
            " [0.01370153]\n",
            " [0.01195494]\n",
            " ...\n",
            " [0.86135736]\n",
            " [0.86408765]\n",
            " [0.78334882]]\n"
          ]
        }
      ]
    },
    {
      "cell_type": "code",
      "source": [
        "#creating training dataset\n",
        "#creating scaled training dataset\n",
        "train_data = scaled_data[0:training_data_len, :]\n",
        "#splitting data into x_train and y_train datasets\n",
        "x_train = []\n",
        "y_train = []\n",
        "\n",
        "for i in range(100, len(train_data)):\n",
        "  x_train.append(train_data[i-100:i, 0])\n",
        "  y_train.append(train_data[i, 0])\n",
        "  if i<=101:\n",
        "    print(\"x_train : \",x_train)\n",
        "    print(\"y_train : \",y_train)\n",
        "    print()"
      ],
      "metadata": {
        "colab": {
          "base_uri": "https://localhost:8080/"
        },
        "id": "ngryq-TVNtp_",
        "outputId": "292e7048-8804-4398-a4fa-b0882682f694"
      },
      "execution_count": 51,
      "outputs": [
        {
          "output_type": "stream",
          "name": "stdout",
          "text": [
            "x_train :  [array([0.01369096, 0.01370153, 0.01195494, 0.01167206, 0.01092201,\n",
            "       0.01187865, 0.01171666, 0.01109104, 0.01180587, 0.0106626 ,\n",
            "       0.00955926, 0.00970598, 0.00976115, 0.00908975, 0.0071448 ,\n",
            "       0.00673749, 0.00608135, 0.00608135, 0.00626093, 0.00633606,\n",
            "       0.00670932, 0.00652035, 0.00627385, 0.00600505, 0.00514115,\n",
            "       0.00505195, 0.00554963, 0.00601562, 0.00547686, 0.00600975,\n",
            "       0.00578204, 0.00544985, 0.00516228, 0.00535478, 0.00508715,\n",
            "       0.00484301, 0.00487588, 0.00480662, 0.00525384, 0.00606961,\n",
            "       0.00549564, 0.00510945, 0.00544868, 0.00543343, 0.00501556,\n",
            "       0.0051705 , 0.00487001, 0.00576913, 0.00561418, 0.00583837,\n",
            "       0.00568227, 0.00569635, 0.00641118, 0.00604144, 0.006464  ,\n",
            "       0.00719879, 0.00736898, 0.00784788, 0.0072833 , 0.00760726,\n",
            "       0.00766478, 0.00837257, 0.00813311, 0.00861671, 0.00878926,\n",
            "       0.00911909, 0.00876108, 0.00859675, 0.00896181, 0.00809204,\n",
            "       0.00816716, 0.00823758, 0.00886203, 0.00895476, 0.00972359,\n",
            "       0.01055931, 0.00962499, 0.00994073, 0.01065087, 0.0107436 ,\n",
            "       0.01103822, 0.01136805, 0.01123893, 0.01194907, 0.01205941,\n",
            "       0.01250427, 0.01273081, 0.01225308, 0.012543  , 0.01235403,\n",
            "       0.01290687, 0.01311815, 0.01268386, 0.01309116, 0.01284349,\n",
            "       0.01237163, 0.0126416 , 0.01173662, 0.0116028 , 0.0120864 ])]\n",
            "y_train :  [np.float64(0.012703815274048317)]\n",
            "\n",
            "x_train :  [array([0.01369096, 0.01370153, 0.01195494, 0.01167206, 0.01092201,\n",
            "       0.01187865, 0.01171666, 0.01109104, 0.01180587, 0.0106626 ,\n",
            "       0.00955926, 0.00970598, 0.00976115, 0.00908975, 0.0071448 ,\n",
            "       0.00673749, 0.00608135, 0.00608135, 0.00626093, 0.00633606,\n",
            "       0.00670932, 0.00652035, 0.00627385, 0.00600505, 0.00514115,\n",
            "       0.00505195, 0.00554963, 0.00601562, 0.00547686, 0.00600975,\n",
            "       0.00578204, 0.00544985, 0.00516228, 0.00535478, 0.00508715,\n",
            "       0.00484301, 0.00487588, 0.00480662, 0.00525384, 0.00606961,\n",
            "       0.00549564, 0.00510945, 0.00544868, 0.00543343, 0.00501556,\n",
            "       0.0051705 , 0.00487001, 0.00576913, 0.00561418, 0.00583837,\n",
            "       0.00568227, 0.00569635, 0.00641118, 0.00604144, 0.006464  ,\n",
            "       0.00719879, 0.00736898, 0.00784788, 0.0072833 , 0.00760726,\n",
            "       0.00766478, 0.00837257, 0.00813311, 0.00861671, 0.00878926,\n",
            "       0.00911909, 0.00876108, 0.00859675, 0.00896181, 0.00809204,\n",
            "       0.00816716, 0.00823758, 0.00886203, 0.00895476, 0.00972359,\n",
            "       0.01055931, 0.00962499, 0.00994073, 0.01065087, 0.0107436 ,\n",
            "       0.01103822, 0.01136805, 0.01123893, 0.01194907, 0.01205941,\n",
            "       0.01250427, 0.01273081, 0.01225308, 0.012543  , 0.01235403,\n",
            "       0.01290687, 0.01311815, 0.01268386, 0.01309116, 0.01284349,\n",
            "       0.01237163, 0.0126416 , 0.01173662, 0.0116028 , 0.0120864 ]), array([0.01370153, 0.01195494, 0.01167206, 0.01092201, 0.01187865,\n",
            "       0.01171666, 0.01109104, 0.01180587, 0.0106626 , 0.00955926,\n",
            "       0.00970598, 0.00976115, 0.00908975, 0.0071448 , 0.00673749,\n",
            "       0.00608135, 0.00608135, 0.00626093, 0.00633606, 0.00670932,\n",
            "       0.00652035, 0.00627385, 0.00600505, 0.00514115, 0.00505195,\n",
            "       0.00554963, 0.00601562, 0.00547686, 0.00600975, 0.00578204,\n",
            "       0.00544985, 0.00516228, 0.00535478, 0.00508715, 0.00484301,\n",
            "       0.00487588, 0.00480662, 0.00525384, 0.00606961, 0.00549564,\n",
            "       0.00510945, 0.00544868, 0.00543343, 0.00501556, 0.0051705 ,\n",
            "       0.00487001, 0.00576913, 0.00561418, 0.00583837, 0.00568227,\n",
            "       0.00569635, 0.00641118, 0.00604144, 0.006464  , 0.00719879,\n",
            "       0.00736898, 0.00784788, 0.0072833 , 0.00760726, 0.00766478,\n",
            "       0.00837257, 0.00813311, 0.00861671, 0.00878926, 0.00911909,\n",
            "       0.00876108, 0.00859675, 0.00896181, 0.00809204, 0.00816716,\n",
            "       0.00823758, 0.00886203, 0.00895476, 0.00972359, 0.01055931,\n",
            "       0.00962499, 0.00994073, 0.01065087, 0.0107436 , 0.01103822,\n",
            "       0.01136805, 0.01123893, 0.01194907, 0.01205941, 0.01250427,\n",
            "       0.01273081, 0.01225308, 0.012543  , 0.01235403, 0.01290687,\n",
            "       0.01311815, 0.01268386, 0.01309116, 0.01284349, 0.01237163,\n",
            "       0.0126416 , 0.01173662, 0.0116028 , 0.0120864 , 0.01270382])]\n",
            "y_train :  [np.float64(0.012703815274048317), np.float64(0.01277188832221505)]\n",
            "\n"
          ]
        }
      ]
    },
    {
      "cell_type": "code",
      "source": [
        "#converting x_train and y_train dataset to numpy array\n",
        "x_train, y_train = np.array(x_train), np.array(y_train)"
      ],
      "metadata": {
        "id": "ibEhqRpMPK6m"
      },
      "execution_count": 52,
      "outputs": []
    },
    {
      "cell_type": "code",
      "source": [
        "#reshaping data\n",
        "x_train = np.reshape(x_train, (x_train.shape[0], x_train.shape[1], 1))\n",
        "x_train.shape"
      ],
      "metadata": {
        "colab": {
          "base_uri": "https://localhost:8080/"
        },
        "id": "_xDtG_R0PVPv",
        "outputId": "9661b21b-b52d-4e62-ff5f-3db698e90722"
      },
      "execution_count": 55,
      "outputs": [
        {
          "output_type": "execute_result",
          "data": {
            "text/plain": [
              "(3374, 100, 1)"
            ]
          },
          "metadata": {},
          "execution_count": 55
        }
      ]
    },
    {
      "cell_type": "code",
      "source": [
        "#bulding LSTM model\n",
        "model = Sequential()\n",
        "model.add(LSTM(50, return_sequences=True, input_shape= (x_train.shape[1], 1)))\n",
        "model.add(LSTM(50, return_sequences=False))\n",
        "model.add(Dense(25))\n",
        "model.add(Dense(1))"
      ],
      "metadata": {
        "colab": {
          "base_uri": "https://localhost:8080/"
        },
        "id": "0e98xBxFPuWf",
        "outputId": "b8b1bddd-96f2-4aa9-dd5a-db0b8dc69f3c"
      },
      "execution_count": 57,
      "outputs": [
        {
          "output_type": "stream",
          "name": "stderr",
          "text": [
            "/usr/local/lib/python3.11/dist-packages/keras/src/layers/rnn/rnn.py:200: UserWarning: Do not pass an `input_shape`/`input_dim` argument to a layer. When using Sequential models, prefer using an `Input(shape)` object as the first layer in the model instead.\n",
            "  super().__init__(**kwargs)\n"
          ]
        }
      ]
    },
    {
      "cell_type": "code",
      "source": [
        "#compiling model\n",
        "model.compile(optimizer='adam', loss='mean_squared_error')"
      ],
      "metadata": {
        "id": "ihPHN9j6QjBY"
      },
      "execution_count": 58,
      "outputs": []
    },
    {
      "cell_type": "code",
      "source": [
        "#training model\n",
        "model.fit(x_train, y_train, batch_size=1, epochs=1)"
      ],
      "metadata": {
        "colab": {
          "base_uri": "https://localhost:8080/"
        },
        "id": "LFhQNN9qQvT5",
        "outputId": "7b939b36-a019-4161-9835-4c274b563405"
      },
      "execution_count": 59,
      "outputs": [
        {
          "output_type": "stream",
          "name": "stdout",
          "text": [
            "\u001b[1m3374/3374\u001b[0m \u001b[32m━━━━━━━━━━━━━━━━━━━━\u001b[0m\u001b[37m\u001b[0m \u001b[1m162s\u001b[0m 47ms/step - loss: 4.7401e-04\n"
          ]
        },
        {
          "output_type": "execute_result",
          "data": {
            "text/plain": [
              "<keras.src.callbacks.history.History at 0x7da406230690>"
            ]
          },
          "metadata": {},
          "execution_count": 59
        }
      ]
    },
    {
      "cell_type": "code",
      "source": [
        "#create testing dataset\n",
        "#creating new array containing values from index 1400 to 2500\n",
        "test_data = scaled_data[training_data_len-100: , :]\n",
        "#creating datasets x_test and y_test\n",
        "x_test = []\n",
        "y_test = dataset[training_data_len:, :]\n",
        "for i in range(100, len(test_data)):\n",
        "  x_test.append(test_data[i-100:i, 0])"
      ],
      "metadata": {
        "id": "lXCRBdKPRG5f"
      },
      "execution_count": 61,
      "outputs": []
    },
    {
      "cell_type": "code",
      "source": [
        "#converting data to numpy array\n",
        "x_test = np.array(x_test)"
      ],
      "metadata": {
        "id": "qkZmcpbUR1zk"
      },
      "execution_count": 62,
      "outputs": []
    },
    {
      "cell_type": "code",
      "source": [
        "#reshaping for 3 dimensional because of LSTM\n",
        "x_test = np.reshape(x_test, (x_test.shape[0], x_test.shape[1], 1))"
      ],
      "metadata": {
        "id": "8Ruc-JkZYXzh"
      },
      "execution_count": 63,
      "outputs": []
    },
    {
      "cell_type": "code",
      "source": [
        "#getting models predicted price values\n",
        "predictions = model.predict(x_test)\n",
        "predictions = scaler.inverse_transform(predictions)"
      ],
      "metadata": {
        "colab": {
          "base_uri": "https://localhost:8080/"
        },
        "id": "lxjBq6LiYkeq",
        "outputId": "5b52d017-2cd8-4b67-ce9c-64a3b58f10f6"
      },
      "execution_count": 64,
      "outputs": [
        {
          "output_type": "stream",
          "name": "stdout",
          "text": [
            "\u001b[1m28/28\u001b[0m \u001b[32m━━━━━━━━━━━━━━━━━━━━\u001b[0m\u001b[37m\u001b[0m \u001b[1m1s\u001b[0m 35ms/step\n"
          ]
        }
      ]
    },
    {
      "cell_type": "code",
      "source": [
        "#getting RMSE lower values of rmse depict better fit\n",
        "rmse = np.sqrt(np.mean(predictions - y_test)**2)\n",
        "rmse"
      ],
      "metadata": {
        "colab": {
          "base_uri": "https://localhost:8080/"
        },
        "id": "1gdJ6wU4Z8Ky",
        "outputId": "d7a2d427-b4d8-40e5-9552-a2c16965e181"
      },
      "execution_count": 65,
      "outputs": [
        {
          "output_type": "execute_result",
          "data": {
            "text/plain": [
              "np.float64(3.4586263208345334)"
            ]
          },
          "metadata": {},
          "execution_count": 65
        }
      ]
    },
    {
      "cell_type": "code",
      "source": [
        "#plot\n",
        "train = data[:training_data_len]\n",
        "valid = data[training_data_len:]\n",
        "valid['Predictions'] = predictions\n",
        "\n",
        "#visualising\n",
        "plt.figure(figsize=(18,8))\n",
        "plt.title('model')\n",
        "plt.xlabel('date', fontsize=14)\n",
        "plt.ylabel('close price USD ($)', fontsize=14)\n",
        "plt.plot(train['Close'])\n",
        "plt.plot(valid[['Close', 'Predictions']])\n",
        "plt.legend(['train', 'valid', 'predictions'], loc='lower right')\n",
        "plt.show()"
      ],
      "metadata": {
        "colab": {
          "base_uri": "https://localhost:8080/",
          "height": 754
        },
        "id": "Mm9nzfDkaN7d",
        "outputId": "9c6d9c1d-fe93-495d-bab1-a67071885a64"
      },
      "execution_count": 72,
      "outputs": [
        {
          "output_type": "stream",
          "name": "stderr",
          "text": [
            "<ipython-input-72-52a78430ded7>:4: SettingWithCopyWarning: \n",
            "A value is trying to be set on a copy of a slice from a DataFrame.\n",
            "Try using .loc[row_indexer,col_indexer] = value instead\n",
            "\n",
            "See the caveats in the documentation: https://pandas.pydata.org/pandas-docs/stable/user_guide/indexing.html#returning-a-view-versus-a-copy\n",
            "  valid['Predictions'] = predictions\n"
          ]
        },
        {
          "output_type": "display_data",
          "data": {
            "text/plain": [
              "<Figure size 1800x800 with 1 Axes>"
            ],
            "image/png": "[encoded data removed]"
          },
          "metadata": {}
        }
      ]
    },
    {
      "cell_type": "code",
      "source": [
        "#showing actual and predicted prices\n",
        "valid"
      ],
      "metadata": {
        "colab": {
          "base_uri": "https://localhost:8080/",
          "height": 682
        },
        "id": "eXvqe9C9bZO8",
        "outputId": "e3d98e5e-76a7-48b9-c07e-5b71cbd87938"
      },
      "execution_count": 73,
      "outputs": [
        {
          "output_type": "execute_result",
          "data": {
            "text/plain": [
              "Price            Close Predictions\n",
              "Ticker            AAPL            \n",
              "Date                              \n",
              "2021-10-19  145.988647  145.002579\n",
              "2021-10-20  146.479370  146.092957\n",
              "2021-10-21  146.695221  147.226318\n",
              "2021-10-22  145.919937  148.231506\n",
              "2021-10-25  145.870895  148.902359\n",
              "...                ...         ...\n",
              "2025-03-28  217.899994  223.969620\n",
              "2025-03-31  222.130005  223.945648\n",
              "2025-04-01  223.190002  224.109390\n",
              "2025-04-02  223.889999  224.436569\n",
              "2025-04-03  203.190002  224.866623\n",
              "\n",
              "[868 rows x 2 columns]"
            ],
            "text/html": [
              "\n",
              "  <div id=\"df-ca9fa808-b336-4cae-bb42-fe61a182c810\" class=\"colab-df-container\">\n",
              "    <div>\n",
              "<style scoped>\n",
              "    .dataframe tbody tr th:only-of-type {\n",
              "        vertical-align: middle;\n",
              "    }\n",
              "\n",
              "    .dataframe tbody tr th {\n",
              "        vertical-align: top;\n",
              "    }\n",
              "\n",
              "    .dataframe thead tr th {\n",
              "        text-align: left;\n",
              "    }\n",
              "\n",
              "    .dataframe thead tr:last-of-type th {\n",
              "        text-align: right;\n",
              "    }\n",
              "</style>\n",
              "<table border=\"1\" class=\"dataframe\">\n",
              "  <thead>\n",
              "    <tr>\n",
              "      <th>Price</th>\n",
              "      <th>Close</th>\n",
              "      <th>Predictions</th>\n",
              "    </tr>\n",
              "    <tr>\n",
              "      <th>Ticker</th>\n",
              "      <th>AAPL</th>\n",
              "      <th></th>\n",
              "    </tr>\n",
              "    <tr>\n",
              "      <th>Date</th>\n",
              "      <th></th>\n",
              "      <th></th>\n",
              "    </tr>\n",
              "  </thead>\n",
              "  <tbody>\n",
              "    <tr>\n",
              "      <th>2021-10-19</th>\n",
              "      <td>145.988647</td>\n",
              "      <td>145.002579</td>\n",
              "    </tr>\n",
              "    <tr>\n",
              "      <th>2021-10-20</th>\n",
              "      <td>146.479370</td>\n",
              "      <td>146.092957</td>\n",
              "    </tr>\n",
              "    <tr>\n",
              "      <th>2021-10-21</th>\n",
              "      <td>146.695221</td>\n",
              "      <td>147.226318</td>\n",
              "    </tr>\n",
              "    <tr>\n",
              "      <th>2021-10-22</th>\n",
              "      <td>145.919937</td>\n",
              "      <td>148.231506</td>\n",
              "    </tr>\n",
              "    <tr>\n",
              "      <th>2021-10-25</th>\n",
              "      <td>145.870895</td>\n",
              "      <td>148.902359</td>\n",
              "    </tr>\n",
              "    <tr>\n",
              "      <th>...</th>\n",
              "      <td>...</td>\n",
              "      <td>...</td>\n",
              "    </tr>\n",
              "    <tr>\n",
              "      <th>2025-03-28</th>\n",
              "      <td>217.899994</td>\n",
              "      <td>223.969620</td>\n",
              "    </tr>\n",
              "    <tr>\n",
              "      <th>2025-03-31</th>\n",
              "      <td>222.130005</td>\n",
              "      <td>223.945648</td>\n",
              "    </tr>\n",
              "    <tr>\n",
              "      <th>2025-04-01</th>\n",
              "      <td>223.190002</td>\n",
              "      <td>224.109390</td>\n",
              "    </tr>\n",
              "    <tr>\n",
              "      <th>2025-04-02</th>\n",
              "      <td>223.889999</td>\n",
              "      <td>224.436569</td>\n",
              "    </tr>\n",
              "    <tr>\n",
              "      <th>2025-04-03</th>\n",
              "      <td>203.190002</td>\n",
              "      <td>224.866623</td>\n",
              "    </tr>\n",
              "  </tbody>\n",
              "</table>\n",
              "<p>868 rows × 2 columns</p>\n",
              "</div>\n",
              "    <div class=\"colab-df-buttons\">\n",
              "\n",
              "  <div class=\"colab-df-container\">\n",
              "    <button class=\"colab-df-convert\" onclick=\"convertToInteractive('df-ca9fa808-b336-4cae-bb42-fe61a182c810')\"\n",
              "            title=\"Convert this dataframe to an interactive table.\"\n",
              "            style=\"display:none;\">\n",
              "\n",
              "  <svg xmlns=\"http://www.w3.org/2000/svg\" height=\"24px\" viewBox=\"0 -960 960 960\">\n",
              "    <path d=\"M120-120v-720h720v720H120Zm60-500h600v-160H180v160Zm220 220h160v-160H400v160Zm0 220h160v-160H400v160ZM180-400h160v-160H180v160Zm440 0h160v-160H620v160ZM180-180h160v-160H180v160Zm440 0h160v-160H620v160Z\"/>\n",
              "  </svg>\n",
              "    </button>\n",
              "\n",
              "  <style>\n",
              "    .colab-df-container {\n",
              "      display:flex;\n",
              "      gap: 12px;\n",
              "    }\n",
              "\n",
              "    .colab-df-convert {\n",
              "      background-color: #E8F0FE;\n",
              "      border: none;\n",
              "      border-radius: 50%;\n",
              "      cursor: pointer;\n",
              "      display: none;\n",
              "      fill: #1967D2;\n",
              "      height: 32px;\n",
              "      padding: 0 0 0 0;\n",
              "      width: 32px;\n",
              "    }\n",
              "\n",
              "    .colab-df-convert:hover {\n",
              "      background-color: #E2EBFA;\n",
              "      box-shadow: 0px 1px 2px rgba(60, 64, 67, 0.3), 0px 1px 3px 1px rgba(60, 64, 67, 0.15);\n",
              "      fill: #174EA6;\n",
              "    }\n",
              "\n",
              "    .colab-df-buttons div {\n",
              "      margin-bottom: 4px;\n",
              "    }\n",
              "\n",
              "    [theme=dark] .colab-df-convert {\n",
              "      background-color: #3B4455;\n",
              "      fill: #D2E3FC;\n",
              "    }\n",
              "\n",
              "    [theme=dark] .colab-df-convert:hover {\n",
              "      background-color: #434B5C;\n",
              "      box-shadow: 0px 1px 3px 1px rgba(0, 0, 0, 0.15);\n",
              "      filter: drop-shadow(0px 1px 2px rgba(0, 0, 0, 0.3));\n",
              "      fill: #FFFFFF;\n",
              "    }\n",
              "  </style>\n",
              "\n",
              "    <script>\n",
              "      const buttonEl =\n",
              "        document.querySelector('#df-ca9fa808-b336-4cae-bb42-fe61a182c810 button.colab-df-convert');\n",
              "      buttonEl.style.display =\n",
              "        google.colab.kernel.accessAllowed ? 'block' : 'none';\n",
              "\n",
              "      async function convertToInteractive(key) {\n",
              "        const element = document.querySelector('#df-ca9fa808-b336-4cae-bb42-fe61a182c810');\n",
              "        const dataTable =\n",
              "          await google.colab.kernel.invokeFunction('convertToInteractive',\n",
              "                                                    [key], {});\n",
              "        if (!dataTable) return;\n",
              "\n",
              "        const docLinkHtml = 'Like what you see? Visit the ' +\n",
              "          '<a target=\"_blank\" href=https://colab.research.google.com/notebooks/data_table.ipynb>data table notebook</a>'\n",
              "          + ' to learn more about interactive tables.';\n",
              "        element.innerHTML = '';\n",
              "        dataTable['output_type'] = 'display_data';\n",
              "        await google.colab.output.renderOutput(dataTable, element);\n",
              "        const docLink = document.createElement('div');\n",
              "        docLink.innerHTML = docLinkHtml;\n",
              "        element.appendChild(docLink);\n",
              "      }\n",
              "    </script>\n",
              "  </div>\n",
              "\n",
              "\n",
              "    <div id=\"df-082c7c2b-f292-495d-bb10-a52e426724a1\">\n",
              "      <button class=\"colab-df-quickchart\" onclick=\"quickchart('df-082c7c2b-f292-495d-bb10-a52e426724a1')\"\n",
              "                title=\"Suggest charts\"\n",
              "                style=\"display:none;\">\n",
              "\n",
              "<svg xmlns=\"http://www.w3.org/2000/svg\" height=\"24px\"viewBox=\"0 0 24 24\"\n",
              "     width=\"24px\">\n",
              "    <g>\n",
              "        <path d=\"M19 3H5c-1.1 0-2 .9-2 2v14c0 1.1.9 2 2 2h14c1.1 0 2-.9 2-2V5c0-1.1-.9-2-2-2zM9 17H7v-7h2v7zm4 0h-2V7h2v10zm4 0h-2v-4h2v4z\"/>\n",
              "    </g>\n",
              "</svg>\n",
              "      </button>\n",
              "\n",
              "<style>\n",
              "  .colab-df-quickchart {\n",
              "      --bg-color: #E8F0FE;\n",
              "      --fill-color: #1967D2;\n",
              "      --hover-bg-color: #E2EBFA;\n",
              "      --hover-fill-color: #174EA6;\n",
              "      --disabled-fill-color: #AAA;\n",
              "      --disabled-bg-color: #DDD;\n",
              "  }\n",
              "\n",
              "  [theme=dark] .colab-df-quickchart {\n",
              "      --bg-color: #3B4455;\n",
              "      --fill-color: #D2E3FC;\n",
              "      --hover-bg-color: #434B5C;\n",
              "      --hover-fill-color: #FFFFFF;\n",
              "      --disabled-bg-color: #3B4455;\n",
              "      --disabled-fill-color: #666;\n",
              "  }\n",
              "\n",
              "  .colab-df-quickchart {\n",
              "    background-color: var(--bg-color);\n",
              "    border: none;\n",
              "    border-radius: 50%;\n",
              "    cursor: pointer;\n",
              "    display: none;\n",
              "    fill: var(--fill-color);\n",
              "    height: 32px;\n",
              "    padding: 0;\n",
              "    width: 32px;\n",
              "  }\n",
              "\n",
              "  .colab-df-quickchart:hover {\n",
              "    background-color: var(--hover-bg-color);\n",
              "    box-shadow: 0 1px 2px rgba(60, 64, 67, 0.3), 0 1px 3px 1px rgba(60, 64, 67, 0.15);\n",
              "    fill: var(--button-hover-fill-color);\n",
              "  }\n",
              "\n",
              "  .colab-df-quickchart-complete:disabled,\n",
              "  .colab-df-quickchart-complete:disabled:hover {\n",
              "    background-color: var(--disabled-bg-color);\n",
              "    fill: var(--disabled-fill-color);\n",
              "    box-shadow: none;\n",
              "  }\n",
              "\n",
              "  .colab-df-spinner {\n",
              "    border: 2px solid var(--fill-color);\n",
              "    border-color: transparent;\n",
              "    border-bottom-color: var(--fill-color);\n",
              "    animation:\n",
              "      spin 1s steps(1) infinite;\n",
              "  }\n",
              "\n",
              "  @keyframes spin {\n",
              "    0% {\n",
              "      border-color: transparent;\n",
              "      border-bottom-color: var(--fill-color);\n",
              "      border-left-color: var(--fill-color);\n",
              "    }\n",
              "    20% {\n",
              "      border-color: transparent;\n",
              "      border-left-color: var(--fill-color);\n",
              "      border-top-color: var(--fill-color);\n",
              "    }\n",
              "    30% {\n",
              "      border-color: transparent;\n",
              "      border-left-color: var(--fill-color);\n",
              "      border-top-color: var(--fill-color);\n",
              "      border-right-color: var(--fill-color);\n",
              "    }\n",
              "    40% {\n",
              "      border-color: transparent;\n",
              "      border-right-color: var(--fill-color);\n",
              "      border-top-color: var(--fill-color);\n",
              "    }\n",
              "    60% {\n",
              "      border-color: transparent;\n",
              "      border-right-color: var(--fill-color);\n",
              "    }\n",
              "    80% {\n",
              "      border-color: transparent;\n",
              "      border-right-color: var(--fill-color);\n",
              "      border-bottom-color: var(--fill-color);\n",
              "    }\n",
              "    90% {\n",
              "      border-color: transparent;\n",
              "      border-bottom-color: var(--fill-color);\n",
              "    }\n",
              "  }\n",
              "</style>\n",
              "\n",
              "      <script>\n",
              "        async function quickchart(key) {\n",
              "          const quickchartButtonEl =\n",
              "            document.querySelector('#' + key + ' button');\n",
              "          quickchartButtonEl.disabled = true;  // To prevent multiple clicks.\n",
              "          quickchartButtonEl.classList.add('colab-df-spinner');\n",
              "          try {\n",
              "            const charts = await google.colab.kernel.invokeFunction(\n",
              "                'suggestCharts', [key], {});\n",
              "          } catch (error) {\n",
              "            console.error('Error during call to suggestCharts:', error);\n",
              "          }\n",
              "          quickchartButtonEl.classList.remove('colab-df-spinner');\n",
              "          quickchartButtonEl.classList.add('colab-df-quickchart-complete');\n",
              "        }\n",
              "        (() => {\n",
              "          let quickchartButtonEl =\n",
              "            document.querySelector('#df-082c7c2b-f292-495d-bb10-a52e426724a1 button');\n",
              "          quickchartButtonEl.style.display =\n",
              "            google.colab.kernel.accessAllowed ? 'block' : 'none';\n",
              "        })();\n",
              "      </script>\n",
              "    </div>\n",
              "\n",
              "  <div id=\"id_d1bd490d-dfa1-4a28-83fe-8fd00cbb30ca\">\n",
              "    <style>\n",
              "      .colab-df-generate {\n",
              "        background-color: #E8F0FE;\n",
              "        border: none;\n",
              "        border-radius: 50%;\n",
              "        cursor: pointer;\n",
              "        display: none;\n",
              "        fill: #1967D2;\n",
              "        height: 32px;\n",
              "        padding: 0 0 0 0;\n",
              "        width: 32px;\n",
              "      }\n",
              "\n",
              "      .colab-df-generate:hover {\n",
              "        background-color: #E2EBFA;\n",
              "        box-shadow: 0px 1px 2px rgba(60, 64, 67, 0.3), 0px 1px 3px 1px rgba(60, 64, 67, 0.15);\n",
              "        fill: #174EA6;\n",
              "      }\n",
              "\n",
              "      [theme=dark] .colab-df-generate {\n",
              "        background-color: #3B4455;\n",
              "        fill: #D2E3FC;\n",
              "      }\n",
              "\n",
              "      [theme=dark] .colab-df-generate:hover {\n",
              "        background-color: #434B5C;\n",
              "        box-shadow: 0px 1px 3px 1px rgba(0, 0, 0, 0.15);\n",
              "        filter: drop-shadow(0px 1px 2px rgba(0, 0, 0, 0.3));\n",
              "        fill: #FFFFFF;\n",
              "      }\n",
              "    </style>\n",
              "    <button class=\"colab-df-generate\" onclick=\"generateWithVariable('valid')\"\n",
              "            title=\"Generate code using this dataframe.\"\n",
              "            style=\"display:none;\">\n",
              "\n",
              "  <svg xmlns=\"http://www.w3.org/2000/svg\" height=\"24px\"viewBox=\"0 0 24 24\"\n",
              "       width=\"24px\">\n",
              "    <path d=\"M7,19H8.4L18.45,9,17,7.55,7,17.6ZM5,21V16.75L18.45,3.32a2,2,0,0,1,2.83,0l1.4,1.43a1.91,1.91,0,0,1,.58,1.4,1.91,1.91,0,0,1-.58,1.4L9.25,21ZM18.45,9,17,7.55Zm-12,3A5.31,5.31,0,0,0,4.9,8.1,5.31,5.31,0,0,0,1,6.5,5.31,5.31,0,0,0,4.9,4.9,5.31,5.31,0,0,0,6.5,1,5.31,5.31,0,0,0,8.1,4.9,5.31,5.31,0,0,0,12,6.5,5.46,5.46,0,0,0,6.5,12Z\"/>\n",
              "  </svg>\n",
              "    </button>\n",
              "    <script>\n",
              "      (() => {\n",
              "      const buttonEl =\n",
              "        document.querySelector('#id_d1bd490d-dfa1-4a28-83fe-8fd00cbb30ca button.colab-df-generate');\n",
              "      buttonEl.style.display =\n",
              "        google.colab.kernel.accessAllowed ? 'block' : 'none';\n",
              "\n",
              "      buttonEl.onclick = () => {\n",
              "        google.colab.notebook.generateWithVariable('valid');\n",
              "      }\n",
              "      })();\n",
              "    </script>\n",
              "  </div>\n",
              "\n",
              "    </div>\n",
              "  </div>\n"
            ],
            "application/vnd.google.colaboratory.intrinsic+json": {
              "type": "dataframe",
              "variable_name": "valid",
              "summary": "{\n  \"name\": \"valid\",\n  \"rows\": 868,\n  \"fields\": [\n    {\n      \"column\": [\n        \"Date\",\n        \"\"\n      ],\n      \"properties\": {\n        \"dtype\": \"date\",\n        \"min\": \"2021-10-19 00:00:00\",\n        \"max\": \"2025-04-03 00:00:00\",\n        \"num_unique_values\": 868,\n        \"samples\": [\n          \"2023-05-15 00:00:00\",\n          \"2022-01-24 00:00:00\",\n          \"2023-10-09 00:00:00\"\n        ],\n        \"semantic_type\": \"\",\n        \"description\": \"\"\n      }\n    },\n    {\n      \"column\": [\n        \"Close\",\n        \"AAPL\"\n      ],\n      \"properties\": {\n        \"dtype\": \"number\",\n        \"std\": 31.627045841550828,\n        \"min\": 123.58309173583984,\n        \"max\": 258.7355041503906,\n        \"num_unique_values\": 857,\n        \"samples\": [\n          222.28077697753906,\n          168.91244506835938,\n          162.65440368652344\n        ],\n        \"semantic_type\": \"\",\n        \"description\": \"\"\n      }\n    },\n    {\n      \"column\": [\n        \"Predictions\",\n        \"\"\n      ],\n      \"properties\": {\n        \"dtype\": \"float32\",\n        \"num_unique_values\": 868,\n        \"samples\": [\n          174.9977569580078,\n          170.11244201660156,\n          177.4714813232422\n        ],\n        \"semantic_type\": \"\",\n        \"description\": \"\"\n      }\n    }\n  ]\n}"
            }
          },
          "metadata": {},
          "execution_count": 73
        }
      ]
    },
    {
      "cell_type": "code",
      "source": [
        "#get quote\n",
        "apple_quote = yf.download('AAPL', start='2008-04-04', end='2025-04-04')\n",
        "#creating new dataframe\n",
        "new_df = apple_quote.filter(['Close'])\n",
        "new_df = apple_quote[['Close']]\n",
        "#get the last 60 days closing price values and converting to array\n",
        "last_60_days = new_df[-60:].values\n",
        "\n",
        "#scaling data to be values between 0 and 1\n",
        "last_60_days_scaled = scaler.transform(last_60_days)\n",
        "\n",
        "#creating empty list\n",
        "X_test = []\n",
        "\n",
        "#appending last 60 days\n",
        "X_test.append(last_60_days_scaled)\n",
        "\n",
        "#converting the x_train to aray\n",
        "X_test = np.array(X_test)\n",
        "\n",
        "#reshaping\n",
        "X_test = np.reshape(X_test, (X_test.shape[0], X_test.shape[1], 1))\n",
        "\n",
        "#getting predicted scaled price\n",
        "pred_price = model.predict(X_test)\n",
        "\n",
        "#undo scaling\n",
        "pred_price = scaler.inverse_transform(pred_price)\n",
        "print(pred_price)"
      ],
      "metadata": {
        "colab": {
          "base_uri": "https://localhost:8080/"
        },
        "id": "vbRe46vNbpkK",
        "outputId": "ad16d0d0-5401-468c-bdaf-d972bd94c288"
      },
      "execution_count": 78,
      "outputs": [
        {
          "output_type": "stream",
          "name": "stderr",
          "text": [
            "\r[*********************100%***********************]  1 of 1 completed\n"
          ]
        },
        {
          "output_type": "stream",
          "name": "stdout",
          "text": [
            "\u001b[1m1/1\u001b[0m \u001b[32m━━━━━━━━━━━━━━━━━━━━\u001b[0m\u001b[37m\u001b[0m \u001b[1m1s\u001b[0m 543ms/step\n",
            "[[222.1111]]\n"
          ]
        }
      ]
    },
    {
      "cell_type": "code",
      "source": [
        "#getting actual close price quote\n",
        "apple_quote2 = yf.download('AAPL', start='2025-04-01', end='2025-04-03')\n",
        "print(apple_quote2['Close'])"
      ],
      "metadata": {
        "colab": {
          "base_uri": "https://localhost:8080/"
        },
        "id": "QKv_iqhfdVZG",
        "outputId": "e3a8d9d4-2bc3-46eb-bcb4-9465c3f15729"
      },
      "execution_count": 81,
      "outputs": [
        {
          "output_type": "stream",
          "name": "stderr",
          "text": [
            "\r[*********************100%***********************]  1 of 1 completed"
          ]
        },
        {
          "output_type": "stream",
          "name": "stdout",
          "text": [
            "Ticker            AAPL\n",
            "Date                  \n",
            "2025-04-01  223.190002\n",
            "2025-04-02  223.889999\n"
          ]
        },
        {
          "output_type": "stream",
          "name": "stderr",
          "text": [
            "\n"
          ]
        }
      ]
    }
  ]
}