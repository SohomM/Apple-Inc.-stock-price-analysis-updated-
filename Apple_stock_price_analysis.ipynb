{
  "nbformat": 4,
  "nbformat_minor": 0,
  "metadata": {
    "colab": {
      "provenance": []
    },
    "kernelspec": {
      "name": "python3",
      "display_name": "Python 3"
    },
    "language_info": {
      "name": "python"
    }
  },
  "cells": [
    {
      "cell_type": "markdown",
      "source": [
        "**STOCK PRICE PREDICTION**\n",
        "\n",
        "It uses artificial neyral network called long short term memory LSTM to predict the closing stock price of a corporation (Apple Inc.) using the past 60 day stock price"
      ],
      "metadata": {
        "id": "OEIrbvYAHlJa"
      }
    },
    {
      "cell_type": "code",
      "execution_count": 1,
      "metadata": {
        "id": "x0uh7_6RHgiU"
      },
      "outputs": [],
      "source": [
        "import pandas as pd\n",
        "import matplotlib.pyplot as plt\n",
        "plt.style.use('fivethirtyeight')\n",
        "import numpy as np\n",
        "import math\n",
        "import pandas_datareader as web\n",
        "from sklearn.preprocessing import MinMaxScaler\n",
        "from  keras.models import Sequential\n",
        "from keras.layers import Dense, LSTM\n",
        "import yfinance as yf"
      ]
    },
    {
      "cell_type": "code",
      "source": [
        "\n",
        "\n",
        "# getting stock quote\n",
        "df = yf.download('AAPL', start='2008-01-01', end='2025-04-04')\n",
        "\n",
        "df"
      ],
      "metadata": {
        "colab": {
          "base_uri": "https://localhost:8080/",
          "height": 521
        },
        "id": "Rr58MpoWJs5e",
        "outputId": "01fd47df-257f-41bc-e6f1-ef109200e7ef"
      },
      "execution_count": 2,
      "outputs": [
        {
          "output_type": "stream",
          "name": "stdout",
          "text": [
            "YF.download() has changed argument auto_adjust default to True\n"
          ]
        },
        {
          "output_type": "stream",
          "name": "stderr",
          "text": [
            "\r[*********************100%***********************]  1 of 1 completed\n"
          ]
        },
        {
          "output_type": "execute_result",
          "data": {
            "text/plain": [
              "Price            Close        High         Low        Open      Volume\n",
              "Ticker            AAPL        AAPL        AAPL        AAPL        AAPL\n",
              "Date                                                                  \n",
              "2008-01-02    5.855757    6.018651    5.786934    5.988897  1079178800\n",
              "2008-01-03    5.858463    5.932396    5.791141    5.872889   842066400\n",
              "2008-01-04    5.411257    5.800459    5.376394    5.753875  1455832000\n",
              "2008-01-07    5.338827    5.517950    5.116125    5.447322  2072193200\n",
              "2008-01-08    5.146779    5.483687    5.133255    5.413960  1523816000\n",
              "...                ...         ...         ...         ...         ...\n",
              "2025-03-28  217.614624  223.516888  217.394911  221.379691    39818600\n",
              "2025-03-31  221.839096  225.324516  215.946814  216.725791    65299300\n",
              "2025-04-01  222.897705  223.387054  218.613315  219.522127    36412700\n",
              "2025-04-02  223.596786  224.895087  220.730550  221.030160    35905900\n",
              "2025-04-03  202.923904  207.218276  200.986443  205.270818   103419000\n",
              "\n",
              "[4342 rows x 5 columns]"
            ],
            "text/html": [
              "\n",
              "  <div id=\"df-e0762414-e935-4220-be9f-c06fb35f54fe\" class=\"colab-df-container\">\n",
              "    <div>\n",
              "<style scoped>\n",
              "    .dataframe tbody tr th:only-of-type {\n",
              "        vertical-align: middle;\n",
              "    }\n",
              "\n",
              "    .dataframe tbody tr th {\n",
              "        vertical-align: top;\n",
              "    }\n",
              "\n",
              "    .dataframe thead tr th {\n",
              "        text-align: left;\n",
              "    }\n",
              "\n",
              "    .dataframe thead tr:last-of-type th {\n",
              "        text-align: right;\n",
              "    }\n",
              "</style>\n",
              "<table border=\"1\" class=\"dataframe\">\n",
              "  <thead>\n",
              "    <tr>\n",
              "      <th>Price</th>\n",
              "      <th>Close</th>\n",
              "      <th>High</th>\n",
              "      <th>Low</th>\n",
              "      <th>Open</th>\n",
              "      <th>Volume</th>\n",
              "    </tr>\n",
              "    <tr>\n",
              "      <th>Ticker</th>\n",
              "      <th>AAPL</th>\n",
              "      <th>AAPL</th>\n",
              "      <th>AAPL</th>\n",
              "      <th>AAPL</th>\n",
              "      <th>AAPL</th>\n",
              "    </tr>\n",
              "    <tr>\n",
              "      <th>Date</th>\n",
              "      <th></th>\n",
              "      <th></th>\n",
              "      <th></th>\n",
              "      <th></th>\n",
              "      <th></th>\n",
              "    </tr>\n",
              "  </thead>\n",
              "  <tbody>\n",
              "    <tr>\n",
              "      <th>2008-01-02</th>\n",
              "      <td>5.855757</td>\n",
              "      <td>6.018651</td>\n",
              "      <td>5.786934</td>\n",
              "      <td>5.988897</td>\n",
              "      <td>1079178800</td>\n",
              "    </tr>\n",
              "    <tr>\n",
              "      <th>2008-01-03</th>\n",
              "      <td>5.858463</td>\n",
              "      <td>5.932396</td>\n",
              "      <td>5.791141</td>\n",
              "      <td>5.872889</td>\n",
              "      <td>842066400</td>\n",
              "    </tr>\n",
              "    <tr>\n",
              "      <th>2008-01-04</th>\n",
              "      <td>5.411257</td>\n",
              "      <td>5.800459</td>\n",
              "      <td>5.376394</td>\n",
              "      <td>5.753875</td>\n",
              "      <td>1455832000</td>\n",
              "    </tr>\n",
              "    <tr>\n",
              "      <th>2008-01-07</th>\n",
              "      <td>5.338827</td>\n",
              "      <td>5.517950</td>\n",
              "      <td>5.116125</td>\n",
              "      <td>5.447322</td>\n",
              "      <td>2072193200</td>\n",
              "    </tr>\n",
              "    <tr>\n",
              "      <th>2008-01-08</th>\n",
              "      <td>5.146779</td>\n",
              "      <td>5.483687</td>\n",
              "      <td>5.133255</td>\n",
              "      <td>5.413960</td>\n",
              "      <td>1523816000</td>\n",
              "    </tr>\n",
              "    <tr>\n",
              "      <th>...</th>\n",
              "      <td>...</td>\n",
              "      <td>...</td>\n",
              "      <td>...</td>\n",
              "      <td>...</td>\n",
              "      <td>...</td>\n",
              "    </tr>\n",
              "    <tr>\n",
              "      <th>2025-03-28</th>\n",
              "      <td>217.614624</td>\n",
              "      <td>223.516888</td>\n",
              "      <td>217.394911</td>\n",
              "      <td>221.379691</td>\n",
              "      <td>39818600</td>\n",
              "    </tr>\n",
              "    <tr>\n",
              "      <th>2025-03-31</th>\n",
              "      <td>221.839096</td>\n",
              "      <td>225.324516</td>\n",
              "      <td>215.946814</td>\n",
              "      <td>216.725791</td>\n",
              "      <td>65299300</td>\n",
              "    </tr>\n",
              "    <tr>\n",
              "      <th>2025-04-01</th>\n",
              "      <td>222.897705</td>\n",
              "      <td>223.387054</td>\n",
              "      <td>218.613315</td>\n",
              "      <td>219.522127</td>\n",
              "      <td>36412700</td>\n",
              "    </tr>\n",
              "    <tr>\n",
              "      <th>2025-04-02</th>\n",
              "      <td>223.596786</td>\n",
              "      <td>224.895087</td>\n",
              "      <td>220.730550</td>\n",
              "      <td>221.030160</td>\n",
              "      <td>35905900</td>\n",
              "    </tr>\n",
              "    <tr>\n",
              "      <th>2025-04-03</th>\n",
              "      <td>202.923904</td>\n",
              "      <td>207.218276</td>\n",
              "      <td>200.986443</td>\n",
              "      <td>205.270818</td>\n",
              "      <td>103419000</td>\n",
              "    </tr>\n",
              "  </tbody>\n",
              "</table>\n",
              "<p>4342 rows × 5 columns</p>\n",
              "</div>\n",
              "    <div class=\"colab-df-buttons\">\n",
              "\n",
              "  <div class=\"colab-df-container\">\n",
              "    <button class=\"colab-df-convert\" onclick=\"convertToInteractive('df-e0762414-e935-4220-be9f-c06fb35f54fe')\"\n",
              "            title=\"Convert this dataframe to an interactive table.\"\n",
              "            style=\"display:none;\">\n",
              "\n",
              "  <svg xmlns=\"http://www.w3.org/2000/svg\" height=\"24px\" viewBox=\"0 -960 960 960\">\n",
              "    <path d=\"M120-120v-720h720v720H120Zm60-500h600v-160H180v160Zm220 220h160v-160H400v160Zm0 220h160v-160H400v160ZM180-400h160v-160H180v160Zm440 0h160v-160H620v160ZM180-180h160v-160H180v160Zm440 0h160v-160H620v160Z\"/>\n",
              "  </svg>\n",
              "    </button>\n",
              "\n",
              "  <style>\n",
              "    .colab-df-container {\n",
              "      display:flex;\n",
              "      gap: 12px;\n",
              "    }\n",
              "\n",
              "    .colab-df-convert {\n",
              "      background-color: #E8F0FE;\n",
              "      border: none;\n",
              "      border-radius: 50%;\n",
              "      cursor: pointer;\n",
              "      display: none;\n",
              "      fill: #1967D2;\n",
              "      height: 32px;\n",
              "      padding: 0 0 0 0;\n",
              "      width: 32px;\n",
              "    }\n",
              "\n",
              "    .colab-df-convert:hover {\n",
              "      background-color: #E2EBFA;\n",
              "      box-shadow: 0px 1px 2px rgba(60, 64, 67, 0.3), 0px 1px 3px 1px rgba(60, 64, 67, 0.15);\n",
              "      fill: #174EA6;\n",
              "    }\n",
              "\n",
              "    .colab-df-buttons div {\n",
              "      margin-bottom: 4px;\n",
              "    }\n",
              "\n",
              "    [theme=dark] .colab-df-convert {\n",
              "      background-color: #3B4455;\n",
              "      fill: #D2E3FC;\n",
              "    }\n",
              "\n",
              "    [theme=dark] .colab-df-convert:hover {\n",
              "      background-color: #434B5C;\n",
              "      box-shadow: 0px 1px 3px 1px rgba(0, 0, 0, 0.15);\n",
              "      filter: drop-shadow(0px 1px 2px rgba(0, 0, 0, 0.3));\n",
              "      fill: #FFFFFF;\n",
              "    }\n",
              "  </style>\n",
              "\n",
              "    <script>\n",
              "      const buttonEl =\n",
              "        document.querySelector('#df-e0762414-e935-4220-be9f-c06fb35f54fe button.colab-df-convert');\n",
              "      buttonEl.style.display =\n",
              "        google.colab.kernel.accessAllowed ? 'block' : 'none';\n",
              "\n",
              "      async function convertToInteractive(key) {\n",
              "        const element = document.querySelector('#df-e0762414-e935-4220-be9f-c06fb35f54fe');\n",
              "        const dataTable =\n",
              "          await google.colab.kernel.invokeFunction('convertToInteractive',\n",
              "                                                    [key], {});\n",
              "        if (!dataTable) return;\n",
              "\n",
              "        const docLinkHtml = 'Like what you see? Visit the ' +\n",
              "          '<a target=\"_blank\" href=https://colab.research.google.com/notebooks/data_table.ipynb>data table notebook</a>'\n",
              "          + ' to learn more about interactive tables.';\n",
              "        element.innerHTML = '';\n",
              "        dataTable['output_type'] = 'display_data';\n",
              "        await google.colab.output.renderOutput(dataTable, element);\n",
              "        const docLink = document.createElement('div');\n",
              "        docLink.innerHTML = docLinkHtml;\n",
              "        element.appendChild(docLink);\n",
              "      }\n",
              "    </script>\n",
              "  </div>\n",
              "\n",
              "\n",
              "    <div id=\"df-5d0ed0c9-02f5-496c-be5f-3c7918a38d0e\">\n",
              "      <button class=\"colab-df-quickchart\" onclick=\"quickchart('df-5d0ed0c9-02f5-496c-be5f-3c7918a38d0e')\"\n",
              "                title=\"Suggest charts\"\n",
              "                style=\"display:none;\">\n",
              "\n",
              "<svg xmlns=\"http://www.w3.org/2000/svg\" height=\"24px\"viewBox=\"0 0 24 24\"\n",
              "     width=\"24px\">\n",
              "    <g>\n",
              "        <path d=\"M19 3H5c-1.1 0-2 .9-2 2v14c0 1.1.9 2 2 2h14c1.1 0 2-.9 2-2V5c0-1.1-.9-2-2-2zM9 17H7v-7h2v7zm4 0h-2V7h2v10zm4 0h-2v-4h2v4z\"/>\n",
              "    </g>\n",
              "</svg>\n",
              "      </button>\n",
              "\n",
              "<style>\n",
              "  .colab-df-quickchart {\n",
              "      --bg-color: #E8F0FE;\n",
              "      --fill-color: #1967D2;\n",
              "      --hover-bg-color: #E2EBFA;\n",
              "      --hover-fill-color: #174EA6;\n",
              "      --disabled-fill-color: #AAA;\n",
              "      --disabled-bg-color: #DDD;\n",
              "  }\n",
              "\n",
              "  [theme=dark] .colab-df-quickchart {\n",
              "      --bg-color: #3B4455;\n",
              "      --fill-color: #D2E3FC;\n",
              "      --hover-bg-color: #434B5C;\n",
              "      --hover-fill-color: #FFFFFF;\n",
              "      --disabled-bg-color: #3B4455;\n",
              "      --disabled-fill-color: #666;\n",
              "  }\n",
              "\n",
              "  .colab-df-quickchart {\n",
              "    background-color: var(--bg-color);\n",
              "    border: none;\n",
              "    border-radius: 50%;\n",
              "    cursor: pointer;\n",
              "    display: none;\n",
              "    fill: var(--fill-color);\n",
              "    height: 32px;\n",
              "    padding: 0;\n",
              "    width: 32px;\n",
              "  }\n",
              "\n",
              "  .colab-df-quickchart:hover {\n",
              "    background-color: var(--hover-bg-color);\n",
              "    box-shadow: 0 1px 2px rgba(60, 64, 67, 0.3), 0 1px 3px 1px rgba(60, 64, 67, 0.15);\n",
              "    fill: var(--button-hover-fill-color);\n",
              "  }\n",
              "\n",
              "  .colab-df-quickchart-complete:disabled,\n",
              "  .colab-df-quickchart-complete:disabled:hover {\n",
              "    background-color: var(--disabled-bg-color);\n",
              "    fill: var(--disabled-fill-color);\n",
              "    box-shadow: none;\n",
              "  }\n",
              "\n",
              "  .colab-df-spinner {\n",
              "    border: 2px solid var(--fill-color);\n",
              "    border-color: transparent;\n",
              "    border-bottom-color: var(--fill-color);\n",
              "    animation:\n",
              "      spin 1s steps(1) infinite;\n",
              "  }\n",
              "\n",
              "  @keyframes spin {\n",
              "    0% {\n",
              "      border-color: transparent;\n",
              "      border-bottom-color: var(--fill-color);\n",
              "      border-left-color: var(--fill-color);\n",
              "    }\n",
              "    20% {\n",
              "      border-color: transparent;\n",
              "      border-left-color: var(--fill-color);\n",
              "      border-top-color: var(--fill-color);\n",
              "    }\n",
              "    30% {\n",
              "      border-color: transparent;\n",
              "      border-left-color: var(--fill-color);\n",
              "      border-top-color: var(--fill-color);\n",
              "      border-right-color: var(--fill-color);\n",
              "    }\n",
              "    40% {\n",
              "      border-color: transparent;\n",
              "      border-right-color: var(--fill-color);\n",
              "      border-top-color: var(--fill-color);\n",
              "    }\n",
              "    60% {\n",
              "      border-color: transparent;\n",
              "      border-right-color: var(--fill-color);\n",
              "    }\n",
              "    80% {\n",
              "      border-color: transparent;\n",
              "      border-right-color: var(--fill-color);\n",
              "      border-bottom-color: var(--fill-color);\n",
              "    }\n",
              "    90% {\n",
              "      border-color: transparent;\n",
              "      border-bottom-color: var(--fill-color);\n",
              "    }\n",
              "  }\n",
              "</style>\n",
              "\n",
              "      <script>\n",
              "        async function quickchart(key) {\n",
              "          const quickchartButtonEl =\n",
              "            document.querySelector('#' + key + ' button');\n",
              "          quickchartButtonEl.disabled = true;  // To prevent multiple clicks.\n",
              "          quickchartButtonEl.classList.add('colab-df-spinner');\n",
              "          try {\n",
              "            const charts = await google.colab.kernel.invokeFunction(\n",
              "                'suggestCharts', [key], {});\n",
              "          } catch (error) {\n",
              "            console.error('Error during call to suggestCharts:', error);\n",
              "          }\n",
              "          quickchartButtonEl.classList.remove('colab-df-spinner');\n",
              "          quickchartButtonEl.classList.add('colab-df-quickchart-complete');\n",
              "        }\n",
              "        (() => {\n",
              "          let quickchartButtonEl =\n",
              "            document.querySelector('#df-5d0ed0c9-02f5-496c-be5f-3c7918a38d0e button');\n",
              "          quickchartButtonEl.style.display =\n",
              "            google.colab.kernel.accessAllowed ? 'block' : 'none';\n",
              "        })();\n",
              "      </script>\n",
              "    </div>\n",
              "\n",
              "  <div id=\"id_ff691651-fde2-4e59-9047-043379427eea\">\n",
              "    <style>\n",
              "      .colab-df-generate {\n",
              "        background-color: #E8F0FE;\n",
              "        border: none;\n",
              "        border-radius: 50%;\n",
              "        cursor: pointer;\n",
              "        display: none;\n",
              "        fill: #1967D2;\n",
              "        height: 32px;\n",
              "        padding: 0 0 0 0;\n",
              "        width: 32px;\n",
              "      }\n",
              "\n",
              "      .colab-df-generate:hover {\n",
              "        background-color: #E2EBFA;\n",
              "        box-shadow: 0px 1px 2px rgba(60, 64, 67, 0.3), 0px 1px 3px 1px rgba(60, 64, 67, 0.15);\n",
              "        fill: #174EA6;\n",
              "      }\n",
              "\n",
              "      [theme=dark] .colab-df-generate {\n",
              "        background-color: #3B4455;\n",
              "        fill: #D2E3FC;\n",
              "      }\n",
              "\n",
              "      [theme=dark] .colab-df-generate:hover {\n",
              "        background-color: #434B5C;\n",
              "        box-shadow: 0px 1px 3px 1px rgba(0, 0, 0, 0.15);\n",
              "        filter: drop-shadow(0px 1px 2px rgba(0, 0, 0, 0.3));\n",
              "        fill: #FFFFFF;\n",
              "      }\n",
              "    </style>\n",
              "    <button class=\"colab-df-generate\" onclick=\"generateWithVariable('df')\"\n",
              "            title=\"Generate code using this dataframe.\"\n",
              "            style=\"display:none;\">\n",
              "\n",
              "  <svg xmlns=\"http://www.w3.org/2000/svg\" height=\"24px\"viewBox=\"0 0 24 24\"\n",
              "       width=\"24px\">\n",
              "    <path d=\"M7,19H8.4L18.45,9,17,7.55,7,17.6ZM5,21V16.75L18.45,3.32a2,2,0,0,1,2.83,0l1.4,1.43a1.91,1.91,0,0,1,.58,1.4,1.91,1.91,0,0,1-.58,1.4L9.25,21ZM18.45,9,17,7.55Zm-12,3A5.31,5.31,0,0,0,4.9,8.1,5.31,5.31,0,0,0,1,6.5,5.31,5.31,0,0,0,4.9,4.9,5.31,5.31,0,0,0,6.5,1,5.31,5.31,0,0,0,8.1,4.9,5.31,5.31,0,0,0,12,6.5,5.46,5.46,0,0,0,6.5,12Z\"/>\n",
              "  </svg>\n",
              "    </button>\n",
              "    <script>\n",
              "      (() => {\n",
              "      const buttonEl =\n",
              "        document.querySelector('#id_ff691651-fde2-4e59-9047-043379427eea button.colab-df-generate');\n",
              "      buttonEl.style.display =\n",
              "        google.colab.kernel.accessAllowed ? 'block' : 'none';\n",
              "\n",
              "      buttonEl.onclick = () => {\n",
              "        google.colab.notebook.generateWithVariable('df');\n",
              "      }\n",
              "      })();\n",
              "    </script>\n",
              "  </div>\n",
              "\n",
              "    </div>\n",
              "  </div>\n"
            ],
            "application/vnd.google.colaboratory.intrinsic+json": {
              "type": "dataframe",
              "variable_name": "df",
              "summary": "{\n  \"name\": \"df\",\n  \"rows\": 4342,\n  \"fields\": [\n    {\n      \"column\": [\n        \"Date\",\n        \"\"\n      ],\n      \"properties\": {\n        \"dtype\": \"date\",\n        \"min\": \"2008-01-02 00:00:00\",\n        \"max\": \"2025-04-03 00:00:00\",\n        \"num_unique_values\": 4342,\n        \"samples\": [\n          \"2016-08-26 00:00:00\",\n          \"2017-09-11 00:00:00\",\n          \"2018-08-20 00:00:00\"\n        ],\n        \"semantic_type\": \"\",\n        \"description\": \"\"\n      }\n    },\n    {\n      \"column\": [\n        \"Close\",\n        \"AAPL\"\n      ],\n      \"properties\": {\n        \"dtype\": \"number\",\n        \"std\": 67.50670243454287,\n        \"min\": 2.3502373695373535,\n        \"max\": 258.39666748046875,\n        \"num_unique_values\": 4277,\n        \"samples\": [\n          6.6795430183410645,\n          4.967954635620117,\n          41.607269287109375\n        ],\n        \"semantic_type\": \"\",\n        \"description\": \"\"\n      }\n    },\n    {\n      \"column\": [\n        \"High\",\n        \"AAPL\"\n      ],\n      \"properties\": {\n        \"dtype\": \"number\",\n        \"std\": 68.15392297370511,\n        \"min\": 2.4644430912542385,\n        \"max\": 259.47408555117545,\n        \"num_unique_values\": 4342,\n        \"samples\": [\n          24.80592480690834,\n          37.89446513084861,\n          52.02894718820168\n        ],\n        \"semantic_type\": \"\",\n        \"description\": \"\"\n      }\n    },\n    {\n      \"column\": [\n        \"Low\",\n        \"AAPL\"\n      ],\n      \"properties\": {\n        \"dtype\": \"number\",\n        \"std\": 66.77258375658798,\n        \"min\": 2.3502373695373535,\n        \"max\": 257.0100282923795,\n        \"num_unique_values\": 4342,\n        \"samples\": [\n          24.429067903776605,\n          37.389360645104375,\n          51.06281246192727\n        ],\n        \"semantic_type\": \"\",\n        \"description\": \"\"\n      }\n    },\n    {\n      \"column\": [\n        \"Open\",\n        \"AAPL\"\n      ],\n      \"properties\": {\n        \"dtype\": \"number\",\n        \"std\": 67.43230074821697,\n        \"min\": 2.3860016319063893,\n        \"max\": 257.56867823862046,\n        \"num_unique_values\": 4342,\n        \"samples\": [\n          24.68183927443289,\n          37.53200579427713,\n          51.772579973081385\n        ],\n        \"semantic_type\": \"\",\n        \"description\": \"\"\n      }\n    },\n    {\n      \"column\": [\n        \"Volume\",\n        \"AAPL\"\n      ],\n      \"properties\": {\n        \"dtype\": \"number\",\n        \"std\": 324822116,\n        \"min\": 23234700,\n        \"max\": 3372969600,\n        \"num_unique_values\": 4331,\n        \"samples\": [\n          95042800,\n          656325600,\n          271742800\n        ],\n        \"semantic_type\": \"\",\n        \"description\": \"\"\n      }\n    }\n  ]\n}"
            }
          },
          "metadata": {},
          "execution_count": 2
        }
      ]
    },
    {
      "cell_type": "code",
      "source": [
        "#getting no. of rows,columns\n",
        "df.shape"
      ],
      "metadata": {
        "colab": {
          "base_uri": "https://localhost:8080/"
        },
        "id": "ECRdmUv1KLYh",
        "outputId": "6bdc92f8-988f-429a-efcb-7744dc743346"
      },
      "execution_count": 3,
      "outputs": [
        {
          "output_type": "execute_result",
          "data": {
            "text/plain": [
              "(4342, 5)"
            ]
          },
          "metadata": {},
          "execution_count": 3
        }
      ]
    },
    {
      "cell_type": "code",
      "source": [
        "#visualising closing price history\n",
        "plt.figure(figsize=(16,8))\n",
        "plt.title('close price history')\n",
        "plt.plot(df['Close'])\n",
        "plt.xlabel('date -->', fontsize=14)\n",
        "plt.ylabel('close price USD ($) -->', fontsize=14)\n",
        "plt.show()"
      ],
      "metadata": {
        "colab": {
          "base_uri": "https://localhost:8080/",
          "height": 723
        },
        "id": "R1O_fl5hKQ-s",
        "outputId": "2f636e70-0a54-4de7-b47d-d75c9c18f000"
      },
      "execution_count": null,
      "outputs": [
        {
          "output_type": "display_data",
          "data": {
            "text/plain": [
              "<Figure size 1600x800 with 1 Axes>"
            ],
            "image/png": "[encoded data removed]"
          },
          "metadata": {}
        }
      ]
    },
    {
      "cell_type": "code",
      "source": [
        "#create new dataframe with only close column\n",
        "data = df.filter(['Close'])\n",
        "data = df[['Close']]\n",
        "#converting dataframe to numpy array\n",
        "dataset = data.values\n",
        "#number of rows to train model\n",
        "training_data_len = math.ceil(len(dataset)*.8) #80% training\n",
        "training_data_len"
      ],
      "metadata": {
        "colab": {
          "base_uri": "https://localhost:8080/"
        },
        "id": "LVQQiIgeLX-O",
        "outputId": "21253120-31b6-427f-80c2-d3dbac9f4e4b"
      },
      "execution_count": 4,
      "outputs": [
        {
          "output_type": "execute_result",
          "data": {
            "text/plain": [
              "3474"
            ]
          },
          "metadata": {},
          "execution_count": 4
        }
      ]
    },
    {
      "cell_type": "code",
      "source": [
        "\n",
        "#scaling data\n",
        "scaler = MinMaxScaler(feature_range=(0,1))\n",
        "scaled_data = scaler.fit_transform(dataset)\n",
        "print(scaled_data)"
      ],
      "metadata": {
        "colab": {
          "base_uri": "https://localhost:8080/"
        },
        "id": "RCd19k48MFPz",
        "outputId": "750eda5c-7f92-4af8-ccf4-069a3a8ccfae"
      },
      "execution_count": 5,
      "outputs": [
        {
          "output_type": "stream",
          "name": "stdout",
          "text": [
            "[[0.01369095]\n",
            " [0.01370152]\n",
            " [0.01195494]\n",
            " ...\n",
            " [0.86135732]\n",
            " [0.86408762]\n",
            " [0.78334881]]\n"
          ]
        }
      ]
    },
    {
      "cell_type": "code",
      "source": [
        "#creating training dataset\n",
        "#creating scaled training dataset\n",
        "train_data = scaled_data[0:training_data_len, :]\n",
        "#splitting data into x_train and y_train datasets\n",
        "x_train = []\n",
        "y_train = []\n",
        "\n",
        "for i in range(100, len(train_data)):\n",
        "  x_train.append(train_data[i-100:i, 0])\n",
        "  y_train.append(train_data[i, 0])\n",
        "  if i<=101:\n",
        "    print(\"x_train : \",x_train)\n",
        "    print(\"y_train : \",y_train)\n",
        "    print()"
      ],
      "metadata": {
        "colab": {
          "base_uri": "https://localhost:8080/"
        },
        "id": "ngryq-TVNtp_",
        "outputId": "7923b49c-268b-4e6f-86ff-6ad35514f917"
      },
      "execution_count": 6,
      "outputs": [
        {
          "output_type": "stream",
          "name": "stdout",
          "text": [
            "x_train :  [array([0.01369095, 0.01370152, 0.01195494, 0.01167206, 0.01092201,\n",
            "       0.01187864, 0.01171666, 0.01109103, 0.01180586, 0.01066261,\n",
            "       0.00955925, 0.00970597, 0.00976114, 0.00908974, 0.00714479,\n",
            "       0.00673749, 0.00608134, 0.00608134, 0.00626093, 0.00633606,\n",
            "       0.00670932, 0.00652034, 0.00627385, 0.00600505, 0.00514115,\n",
            "       0.00505194, 0.00554962, 0.00601561, 0.00547686, 0.00600975,\n",
            "       0.00578204, 0.00544985, 0.00516228, 0.00535477, 0.00508716,\n",
            "       0.00484302, 0.00487588, 0.00480662, 0.00525383, 0.00606962,\n",
            "       0.00549563, 0.00510946, 0.00544868, 0.00543342, 0.00501556,\n",
            "       0.00517049, 0.00487001, 0.00576913, 0.00561419, 0.00583838,\n",
            "       0.00568226, 0.00569635, 0.00641118, 0.00604143, 0.00646399,\n",
            "       0.00719879, 0.00736899, 0.00784788, 0.0072833 , 0.00760726,\n",
            "       0.00766477, 0.00837256, 0.00813311, 0.00861672, 0.00878926,\n",
            "       0.00911909, 0.00876108, 0.00859675, 0.0089618 , 0.00809203,\n",
            "       0.00816715, 0.00823758, 0.00886204, 0.00895475, 0.00972358,\n",
            "       0.01055931, 0.00962499, 0.00994073, 0.01065087, 0.0107436 ,\n",
            "       0.01103822, 0.01136806, 0.01123893, 0.01194907, 0.0120594 ,\n",
            "       0.01250426, 0.01273081, 0.01225308, 0.012543  , 0.01235402,\n",
            "       0.01290687, 0.01311815, 0.01268386, 0.01309115, 0.01284348,\n",
            "       0.01237163, 0.01264161, 0.01173661, 0.0116028 , 0.0120864 ])]\n",
            "y_train :  [np.float64(0.012703811781747265)]\n",
            "\n",
            "x_train :  [array([0.01369095, 0.01370152, 0.01195494, 0.01167206, 0.01092201,\n",
            "       0.01187864, 0.01171666, 0.01109103, 0.01180586, 0.01066261,\n",
            "       0.00955925, 0.00970597, 0.00976114, 0.00908974, 0.00714479,\n",
            "       0.00673749, 0.00608134, 0.00608134, 0.00626093, 0.00633606,\n",
            "       0.00670932, 0.00652034, 0.00627385, 0.00600505, 0.00514115,\n",
            "       0.00505194, 0.00554962, 0.00601561, 0.00547686, 0.00600975,\n",
            "       0.00578204, 0.00544985, 0.00516228, 0.00535477, 0.00508716,\n",
            "       0.00484302, 0.00487588, 0.00480662, 0.00525383, 0.00606962,\n",
            "       0.00549563, 0.00510946, 0.00544868, 0.00543342, 0.00501556,\n",
            "       0.00517049, 0.00487001, 0.00576913, 0.00561419, 0.00583838,\n",
            "       0.00568226, 0.00569635, 0.00641118, 0.00604143, 0.00646399,\n",
            "       0.00719879, 0.00736899, 0.00784788, 0.0072833 , 0.00760726,\n",
            "       0.00766477, 0.00837256, 0.00813311, 0.00861672, 0.00878926,\n",
            "       0.00911909, 0.00876108, 0.00859675, 0.0089618 , 0.00809203,\n",
            "       0.00816715, 0.00823758, 0.00886204, 0.00895475, 0.00972358,\n",
            "       0.01055931, 0.00962499, 0.00994073, 0.01065087, 0.0107436 ,\n",
            "       0.01103822, 0.01136806, 0.01123893, 0.01194907, 0.0120594 ,\n",
            "       0.01250426, 0.01273081, 0.01225308, 0.012543  , 0.01235402,\n",
            "       0.01290687, 0.01311815, 0.01268386, 0.01309115, 0.01284348,\n",
            "       0.01237163, 0.01264161, 0.01173661, 0.0116028 , 0.0120864 ]), array([0.01370152, 0.01195494, 0.01167206, 0.01092201, 0.01187864,\n",
            "       0.01171666, 0.01109103, 0.01180586, 0.01066261, 0.00955925,\n",
            "       0.00970597, 0.00976114, 0.00908974, 0.00714479, 0.00673749,\n",
            "       0.00608134, 0.00608134, 0.00626093, 0.00633606, 0.00670932,\n",
            "       0.00652034, 0.00627385, 0.00600505, 0.00514115, 0.00505194,\n",
            "       0.00554962, 0.00601561, 0.00547686, 0.00600975, 0.00578204,\n",
            "       0.00544985, 0.00516228, 0.00535477, 0.00508716, 0.00484302,\n",
            "       0.00487588, 0.00480662, 0.00525383, 0.00606962, 0.00549563,\n",
            "       0.00510946, 0.00544868, 0.00543342, 0.00501556, 0.00517049,\n",
            "       0.00487001, 0.00576913, 0.00561419, 0.00583838, 0.00568226,\n",
            "       0.00569635, 0.00641118, 0.00604143, 0.00646399, 0.00719879,\n",
            "       0.00736899, 0.00784788, 0.0072833 , 0.00760726, 0.00766477,\n",
            "       0.00837256, 0.00813311, 0.00861672, 0.00878926, 0.00911909,\n",
            "       0.00876108, 0.00859675, 0.0089618 , 0.00809203, 0.00816715,\n",
            "       0.00823758, 0.00886204, 0.00895475, 0.00972358, 0.01055931,\n",
            "       0.00962499, 0.00994073, 0.01065087, 0.0107436 , 0.01103822,\n",
            "       0.01136806, 0.01123893, 0.01194907, 0.0120594 , 0.01250426,\n",
            "       0.01273081, 0.01225308, 0.012543  , 0.01235402, 0.01290687,\n",
            "       0.01311815, 0.01268386, 0.01309115, 0.01284348, 0.01237163,\n",
            "       0.01264161, 0.01173661, 0.0116028 , 0.0120864 , 0.01270381])]\n",
            "y_train :  [np.float64(0.012703811781747265), np.float64(0.012771886565970602)]\n",
            "\n"
          ]
        }
      ]
    },
    {
      "cell_type": "code",
      "source": [
        "#converting x_train and y_train dataset to numpy array\n",
        "x_train, y_train = np.array(x_train), np.array(y_train)"
      ],
      "metadata": {
        "id": "ibEhqRpMPK6m"
      },
      "execution_count": 7,
      "outputs": []
    },
    {
      "cell_type": "code",
      "source": [
        "#reshaping data\n",
        "x_train = np.reshape(x_train, (x_train.shape[0], x_train.shape[1], 1))\n",
        "x_train.shape"
      ],
      "metadata": {
        "colab": {
          "base_uri": "https://localhost:8080/"
        },
        "id": "_xDtG_R0PVPv",
        "outputId": "a42363d4-da92-4f1e-bd66-272c031abbd0"
      },
      "execution_count": 8,
      "outputs": [
        {
          "output_type": "execute_result",
          "data": {
            "text/plain": [
              "(3374, 100, 1)"
            ]
          },
          "metadata": {},
          "execution_count": 8
        }
      ]
    },
    {
      "cell_type": "code",
      "source": [
        "#bulding LSTM model\n",
        "model = Sequential()\n",
        "model.add(LSTM(50, return_sequences=True, input_shape= (x_train.shape[1], 1)))\n",
        "model.add(LSTM(50, return_sequences=False))\n",
        "model.add(Dense(25))\n",
        "model.add(Dense(1))"
      ],
      "metadata": {
        "colab": {
          "base_uri": "https://localhost:8080/"
        },
        "id": "0e98xBxFPuWf",
        "outputId": "de4b25c7-9bde-493f-c410-f10c42c4e59c"
      },
      "execution_count": 9,
      "outputs": [
        {
          "output_type": "stream",
          "name": "stderr",
          "text": [
            "/usr/local/lib/python3.11/dist-packages/keras/src/layers/rnn/rnn.py:200: UserWarning: Do not pass an `input_shape`/`input_dim` argument to a layer. When using Sequential models, prefer using an `Input(shape)` object as the first layer in the model instead.\n",
            "  super().__init__(**kwargs)\n"
          ]
        }
      ]
    },
    {
      "cell_type": "code",
      "source": [
        "#compiling model\n",
        "model.compile(optimizer='adam', loss='mean_squared_error')"
      ],
      "metadata": {
        "id": "ihPHN9j6QjBY"
      },
      "execution_count": 10,
      "outputs": []
    },
    {
      "cell_type": "code",
      "source": [
        "#training model\n",
        "model.fit(x_train, y_train, batch_size=1, epochs=1)"
      ],
      "metadata": {
        "colab": {
          "base_uri": "https://localhost:8080/"
        },
        "id": "LFhQNN9qQvT5",
        "outputId": "0265c155-35d0-4b02-fffa-1ba9d0748f95"
      },
      "execution_count": 11,
      "outputs": [
        {
          "output_type": "stream",
          "name": "stdout",
          "text": [
            "\u001b[1m3374/3374\u001b[0m \u001b[32m━━━━━━━━━━━━━━━━━━━━\u001b[0m\u001b[37m\u001b[0m \u001b[1m187s\u001b[0m 54ms/step - loss: 5.5678e-04\n"
          ]
        },
        {
          "output_type": "execute_result",
          "data": {
            "text/plain": [
              "<keras.src.callbacks.history.History at 0x7804925c0450>"
            ]
          },
          "metadata": {},
          "execution_count": 11
        }
      ]
    },
    {
      "cell_type": "code",
      "source": [
        "#create testing dataset\n",
        "#creating new array containing values from index 1400 to 2500\n",
        "test_data = scaled_data[training_data_len-100: , :]\n",
        "#creating datasets x_test and y_test\n",
        "x_test = []\n",
        "y_test = dataset[training_data_len:, :]\n",
        "for i in range(100, len(test_data)):\n",
        "  x_test.append(test_data[i-100:i, 0])"
      ],
      "metadata": {
        "id": "lXCRBdKPRG5f"
      },
      "execution_count": 12,
      "outputs": []
    },
    {
      "cell_type": "code",
      "source": [
        "#converting data to numpy array\n",
        "x_test = np.array(x_test)"
      ],
      "metadata": {
        "id": "qkZmcpbUR1zk"
      },
      "execution_count": 13,
      "outputs": []
    },
    {
      "cell_type": "code",
      "source": [
        "#reshaping for 3 dimensional because of LSTM\n",
        "x_test = np.reshape(x_test, (x_test.shape[0], x_test.shape[1], 1))"
      ],
      "metadata": {
        "id": "8Ruc-JkZYXzh"
      },
      "execution_count": 14,
      "outputs": []
    },
    {
      "cell_type": "code",
      "source": [
        "#getting models predicted price values\n",
        "predictions = model.predict(x_test)\n",
        "predictions = scaler.inverse_transform(predictions)"
      ],
      "metadata": {
        "colab": {
          "base_uri": "https://localhost:8080/"
        },
        "id": "lxjBq6LiYkeq",
        "outputId": "20af83d4-95df-410f-8d53-0ef855510754"
      },
      "execution_count": 15,
      "outputs": [
        {
          "output_type": "stream",
          "name": "stdout",
          "text": [
            "\u001b[1m28/28\u001b[0m \u001b[32m━━━━━━━━━━━━━━━━━━━━\u001b[0m\u001b[37m\u001b[0m \u001b[1m2s\u001b[0m 42ms/step\n"
          ]
        }
      ]
    },
    {
      "cell_type": "code",
      "source": [
        "#getting RMSE lower values of rmse depict better fit\n",
        "rmse = np.sqrt(np.mean(predictions - y_test)**2)\n",
        "rmse"
      ],
      "metadata": {
        "colab": {
          "base_uri": "https://localhost:8080/"
        },
        "id": "1gdJ6wU4Z8Ky",
        "outputId": "cccbae83-292a-4a9d-d405-79a25014b350"
      },
      "execution_count": 16,
      "outputs": [
        {
          "output_type": "execute_result",
          "data": {
            "text/plain": [
              "np.float64(2.5112442772509316)"
            ]
          },
          "metadata": {},
          "execution_count": 16
        }
      ]
    },
    {
      "cell_type": "code",
      "source": [
        "#plot\n",
        "train = data[:training_data_len]\n",
        "valid = data[training_data_len:]\n",
        "valid['Predictions'] = predictions\n",
        "\n",
        "#visualising\n",
        "plt.figure(figsize=(18,8))\n",
        "plt.title('model')\n",
        "plt.xlabel('date', fontsize=14)\n",
        "plt.ylabel('close price USD ($)', fontsize=14)\n",
        "plt.plot(train['Close'])\n",
        "plt.plot(valid[['Close', 'Predictions']])\n",
        "plt.legend(['train', 'valid', 'predictions'], loc='lower right')\n",
        "plt.show()"
      ],
      "metadata": {
        "colab": {
          "base_uri": "https://localhost:8080/",
          "height": 754
        },
        "id": "Mm9nzfDkaN7d",
        "outputId": "7bdf36f4-7030-4263-dda0-c00ee276682d"
      },
      "execution_count": 17,
      "outputs": [
        {
          "output_type": "stream",
          "name": "stderr",
          "text": [
            "<ipython-input-17-52a78430ded7>:4: SettingWithCopyWarning: \n",
            "A value is trying to be set on a copy of a slice from a DataFrame.\n",
            "Try using .loc[row_indexer,col_indexer] = value instead\n",
            "\n",
            "See the caveats in the documentation: https://pandas.pydata.org/pandas-docs/stable/user_guide/indexing.html#returning-a-view-versus-a-copy\n",
            "  valid['Predictions'] = predictions\n"
          ]
        },
        {
          "output_type": "display_data",
          "data": {
            "text/plain": [
              "<Figure size 1800x800 with 1 Axes>"
            ],
            "image/png": "[encoded data removed]"
          },
          "metadata": {}
        }
      ]
    },
    {
      "cell_type": "code",
      "source": [
        "#showing actual and predicted prices\n",
        "valid"
      ],
      "metadata": {
        "colab": {
          "base_uri": "https://localhost:8080/",
          "height": 486
        },
        "id": "eXvqe9C9bZO8",
        "outputId": "4a1b1ed5-0e57-4ee9-e1d1-004c5d89469c"
      },
      "execution_count": 18,
      "outputs": [
        {
          "output_type": "execute_result",
          "data": {
            "text/plain": [
              "Price            Close Predictions\n",
              "Ticker            AAPL            \n",
              "Date                              \n",
              "2021-10-19  145.797455  142.031555\n",
              "2021-10-20  146.287521  142.932953\n",
              "2021-10-21  146.503159  143.879166\n",
              "2021-10-22  145.728836  144.746902\n",
              "2021-10-25  145.679886  145.369995\n",
              "...                ...         ...\n",
              "2025-03-28  217.614624  213.000641\n",
              "2025-03-31  221.839096  212.996948\n",
              "2025-04-01  222.897705  213.281860\n",
              "2025-04-02  223.596786  213.694183\n",
              "2025-04-03  202.923904  214.169739\n",
              "\n",
              "[868 rows x 2 columns]"
            ],
            "text/html": [
              "\n",
              "  <div id=\"df-dcbce97f-cbf0-480b-9be0-27ae688e7838\" class=\"colab-df-container\">\n",
              "    <div>\n",
              "<style scoped>\n",
              "    .dataframe tbody tr th:only-of-type {\n",
              "        vertical-align: middle;\n",
              "    }\n",
              "\n",
              "    .dataframe tbody tr th {\n",
              "        vertical-align: top;\n",
              "    }\n",
              "\n",
              "    .dataframe thead tr th {\n",
              "        text-align: left;\n",
              "    }\n",
              "\n",
              "    .dataframe thead tr:last-of-type th {\n",
              "        text-align: right;\n",
              "    }\n",
              "</style>\n",
              "<table border=\"1\" class=\"dataframe\">\n",
              "  <thead>\n",
              "    <tr>\n",
              "      <th>Price</th>\n",
              "      <th>Close</th>\n",
              "      <th>Predictions</th>\n",
              "    </tr>\n",
              "    <tr>\n",
              "      <th>Ticker</th>\n",
              "      <th>AAPL</th>\n",
              "      <th></th>\n",
              "    </tr>\n",
              "    <tr>\n",
              "      <th>Date</th>\n",
              "      <th></th>\n",
              "      <th></th>\n",
              "    </tr>\n",
              "  </thead>\n",
              "  <tbody>\n",
              "    <tr>\n",
              "      <th>2021-10-19</th>\n",
              "      <td>145.797455</td>\n",
              "      <td>142.031555</td>\n",
              "    </tr>\n",
              "    <tr>\n",
              "      <th>2021-10-20</th>\n",
              "      <td>146.287521</td>\n",
              "      <td>142.932953</td>\n",
              "    </tr>\n",
              "    <tr>\n",
              "      <th>2021-10-21</th>\n",
              "      <td>146.503159</td>\n",
              "      <td>143.879166</td>\n",
              "    </tr>\n",
              "    <tr>\n",
              "      <th>2021-10-22</th>\n",
              "      <td>145.728836</td>\n",
              "      <td>144.746902</td>\n",
              "    </tr>\n",
              "    <tr>\n",
              "      <th>2021-10-25</th>\n",
              "      <td>145.679886</td>\n",
              "      <td>145.369995</td>\n",
              "    </tr>\n",
              "    <tr>\n",
              "      <th>...</th>\n",
              "      <td>...</td>\n",
              "      <td>...</td>\n",
              "    </tr>\n",
              "    <tr>\n",
              "      <th>2025-03-28</th>\n",
              "      <td>217.614624</td>\n",
              "      <td>213.000641</td>\n",
              "    </tr>\n",
              "    <tr>\n",
              "      <th>2025-03-31</th>\n",
              "      <td>221.839096</td>\n",
              "      <td>212.996948</td>\n",
              "    </tr>\n",
              "    <tr>\n",
              "      <th>2025-04-01</th>\n",
              "      <td>222.897705</td>\n",
              "      <td>213.281860</td>\n",
              "    </tr>\n",
              "    <tr>\n",
              "      <th>2025-04-02</th>\n",
              "      <td>223.596786</td>\n",
              "      <td>213.694183</td>\n",
              "    </tr>\n",
              "    <tr>\n",
              "      <th>2025-04-03</th>\n",
              "      <td>202.923904</td>\n",
              "      <td>214.169739</td>\n",
              "    </tr>\n",
              "  </tbody>\n",
              "</table>\n",
              "<p>868 rows × 2 columns</p>\n",
              "</div>\n",
              "    <div class=\"colab-df-buttons\">\n",
              "\n",
              "  <div class=\"colab-df-container\">\n",
              "    <button class=\"colab-df-convert\" onclick=\"convertToInteractive('df-dcbce97f-cbf0-480b-9be0-27ae688e7838')\"\n",
              "            title=\"Convert this dataframe to an interactive table.\"\n",
              "            style=\"display:none;\">\n",
              "\n",
              "  <svg xmlns=\"http://www.w3.org/2000/svg\" height=\"24px\" viewBox=\"0 -960 960 960\">\n",
              "    <path d=\"M120-120v-720h720v720H120Zm60-500h600v-160H180v160Zm220 220h160v-160H400v160Zm0 220h160v-160H400v160ZM180-400h160v-160H180v160Zm440 0h160v-160H620v160ZM180-180h160v-160H180v160Zm440 0h160v-160H620v160Z\"/>\n",
              "  </svg>\n",
              "    </button>\n",
              "\n",
              "  <style>\n",
              "    .colab-df-container {\n",
              "      display:flex;\n",
              "      gap: 12px;\n",
              "    }\n",
              "\n",
              "    .colab-df-convert {\n",
              "      background-color: #E8F0FE;\n",
              "      border: none;\n",
              "      border-radius: 50%;\n",
              "      cursor: pointer;\n",
              "      display: none;\n",
              "      fill: #1967D2;\n",
              "      height: 32px;\n",
              "      padding: 0 0 0 0;\n",
              "      width: 32px;\n",
              "    }\n",
              "\n",
              "    .colab-df-convert:hover {\n",
              "      background-color: #E2EBFA;\n",
              "      box-shadow: 0px 1px 2px rgba(60, 64, 67, 0.3), 0px 1px 3px 1px rgba(60, 64, 67, 0.15);\n",
              "      fill: #174EA6;\n",
              "    }\n",
              "\n",
              "    .colab-df-buttons div {\n",
              "      margin-bottom: 4px;\n",
              "    }\n",
              "\n",
              "    [theme=dark] .colab-df-convert {\n",
              "      background-color: #3B4455;\n",
              "      fill: #D2E3FC;\n",
              "    }\n",
              "\n",
              "    [theme=dark] .colab-df-convert:hover {\n",
              "      background-color: #434B5C;\n",
              "      box-shadow: 0px 1px 3px 1px rgba(0, 0, 0, 0.15);\n",
              "      filter: drop-shadow(0px 1px 2px rgba(0, 0, 0, 0.3));\n",
              "      fill: #FFFFFF;\n",
              "    }\n",
              "  </style>\n",
              "\n",
              "    <script>\n",
              "      const buttonEl =\n",
              "        document.querySelector('#df-dcbce97f-cbf0-480b-9be0-27ae688e7838 button.colab-df-convert');\n",
              "      buttonEl.style.display =\n",
              "        google.colab.kernel.accessAllowed ? 'block' : 'none';\n",
              "\n",
              "      async function convertToInteractive(key) {\n",
              "        const element = document.querySelector('#df-dcbce97f-cbf0-480b-9be0-27ae688e7838');\n",
              "        const dataTable =\n",
              "          await google.colab.kernel.invokeFunction('convertToInteractive',\n",
              "                                                    [key], {});\n",
              "        if (!dataTable) return;\n",
              "\n",
              "        const docLinkHtml = 'Like what you see? Visit the ' +\n",
              "          '<a target=\"_blank\" href=https://colab.research.google.com/notebooks/data_table.ipynb>data table notebook</a>'\n",
              "          + ' to learn more about interactive tables.';\n",
              "        element.innerHTML = '';\n",
              "        dataTable['output_type'] = 'display_data';\n",
              "        await google.colab.output.renderOutput(dataTable, element);\n",
              "        const docLink = document.createElement('div');\n",
              "        docLink.innerHTML = docLinkHtml;\n",
              "        element.appendChild(docLink);\n",
              "      }\n",
              "    </script>\n",
              "  </div>\n",
              "\n",
              "\n",
              "    <div id=\"df-9d5a2d18-b3ff-4b66-8f68-3791d70c6414\">\n",
              "      <button class=\"colab-df-quickchart\" onclick=\"quickchart('df-9d5a2d18-b3ff-4b66-8f68-3791d70c6414')\"\n",
              "                title=\"Suggest charts\"\n",
              "                style=\"display:none;\">\n",
              "\n",
              "<svg xmlns=\"http://www.w3.org/2000/svg\" height=\"24px\"viewBox=\"0 0 24 24\"\n",
              "     width=\"24px\">\n",
              "    <g>\n",
              "        <path d=\"M19 3H5c-1.1 0-2 .9-2 2v14c0 1.1.9 2 2 2h14c1.1 0 2-.9 2-2V5c0-1.1-.9-2-2-2zM9 17H7v-7h2v7zm4 0h-2V7h2v10zm4 0h-2v-4h2v4z\"/>\n",
              "    </g>\n",
              "</svg>\n",
              "      </button>\n",
              "\n",
              "<style>\n",
              "  .colab-df-quickchart {\n",
              "      --bg-color: #E8F0FE;\n",
              "      --fill-color: #1967D2;\n",
              "      --hover-bg-color: #E2EBFA;\n",
              "      --hover-fill-color: #174EA6;\n",
              "      --disabled-fill-color: #AAA;\n",
              "      --disabled-bg-color: #DDD;\n",
              "  }\n",
              "\n",
              "  [theme=dark] .colab-df-quickchart {\n",
              "      --bg-color: #3B4455;\n",
              "      --fill-color: #D2E3FC;\n",
              "      --hover-bg-color: #434B5C;\n",
              "      --hover-fill-color: #FFFFFF;\n",
              "      --disabled-bg-color: #3B4455;\n",
              "      --disabled-fill-color: #666;\n",
              "  }\n",
              "\n",
              "  .colab-df-quickchart {\n",
              "    background-color: var(--bg-color);\n",
              "    border: none;\n",
              "    border-radius: 50%;\n",
              "    cursor: pointer;\n",
              "    display: none;\n",
              "    fill: var(--fill-color);\n",
              "    height: 32px;\n",
              "    padding: 0;\n",
              "    width: 32px;\n",
              "  }\n",
              "\n",
              "  .colab-df-quickchart:hover {\n",
              "    background-color: var(--hover-bg-color);\n",
              "    box-shadow: 0 1px 2px rgba(60, 64, 67, 0.3), 0 1px 3px 1px rgba(60, 64, 67, 0.15);\n",
              "    fill: var(--button-hover-fill-color);\n",
              "  }\n",
              "\n",
              "  .colab-df-quickchart-complete:disabled,\n",
              "  .colab-df-quickchart-complete:disabled:hover {\n",
              "    background-color: var(--disabled-bg-color);\n",
              "    fill: var(--disabled-fill-color);\n",
              "    box-shadow: none;\n",
              "  }\n",
              "\n",
              "  .colab-df-spinner {\n",
              "    border: 2px solid var(--fill-color);\n",
              "    border-color: transparent;\n",
              "    border-bottom-color: var(--fill-color);\n",
              "    animation:\n",
              "      spin 1s steps(1) infinite;\n",
              "  }\n",
              "\n",
              "  @keyframes spin {\n",
              "    0% {\n",
              "      border-color: transparent;\n",
              "      border-bottom-color: var(--fill-color);\n",
              "      border-left-color: var(--fill-color);\n",
              "    }\n",
              "    20% {\n",
              "      border-color: transparent;\n",
              "      border-left-color: var(--fill-color);\n",
              "      border-top-color: var(--fill-color);\n",
              "    }\n",
              "    30% {\n",
              "      border-color: transparent;\n",
              "      border-left-color: var(--fill-color);\n",
              "      border-top-color: var(--fill-color);\n",
              "      border-right-color: var(--fill-color);\n",
              "    }\n",
              "    40% {\n",
              "      border-color: transparent;\n",
              "      border-right-color: var(--fill-color);\n",
              "      border-top-color: var(--fill-color);\n",
              "    }\n",
              "    60% {\n",
              "      border-color: transparent;\n",
              "      border-right-color: var(--fill-color);\n",
              "    }\n",
              "    80% {\n",
              "      border-color: transparent;\n",
              "      border-right-color: var(--fill-color);\n",
              "      border-bottom-color: var(--fill-color);\n",
              "    }\n",
              "    90% {\n",
              "      border-color: transparent;\n",
              "      border-bottom-color: var(--fill-color);\n",
              "    }\n",
              "  }\n",
              "</style>\n",
              "\n",
              "      <script>\n",
              "        async function quickchart(key) {\n",
              "          const quickchartButtonEl =\n",
              "            document.querySelector('#' + key + ' button');\n",
              "          quickchartButtonEl.disabled = true;  // To prevent multiple clicks.\n",
              "          quickchartButtonEl.classList.add('colab-df-spinner');\n",
              "          try {\n",
              "            const charts = await google.colab.kernel.invokeFunction(\n",
              "                'suggestCharts', [key], {});\n",
              "          } catch (error) {\n",
              "            console.error('Error during call to suggestCharts:', error);\n",
              "          }\n",
              "          quickchartButtonEl.classList.remove('colab-df-spinner');\n",
              "          quickchartButtonEl.classList.add('colab-df-quickchart-complete');\n",
              "        }\n",
              "        (() => {\n",
              "          let quickchartButtonEl =\n",
              "            document.querySelector('#df-9d5a2d18-b3ff-4b66-8f68-3791d70c6414 button');\n",
              "          quickchartButtonEl.style.display =\n",
              "            google.colab.kernel.accessAllowed ? 'block' : 'none';\n",
              "        })();\n",
              "      </script>\n",
              "    </div>\n",
              "\n",
              "  <div id=\"id_8d23cd8d-d37d-4d14-800d-ffddb94adab8\">\n",
              "    <style>\n",
              "      .colab-df-generate {\n",
              "        background-color: #E8F0FE;\n",
              "        border: none;\n",
              "        border-radius: 50%;\n",
              "        cursor: pointer;\n",
              "        display: none;\n",
              "        fill: #1967D2;\n",
              "        height: 32px;\n",
              "        padding: 0 0 0 0;\n",
              "        width: 32px;\n",
              "      }\n",
              "\n",
              "      .colab-df-generate:hover {\n",
              "        background-color: #E2EBFA;\n",
              "        box-shadow: 0px 1px 2px rgba(60, 64, 67, 0.3), 0px 1px 3px 1px rgba(60, 64, 67, 0.15);\n",
              "        fill: #174EA6;\n",
              "      }\n",
              "\n",
              "      [theme=dark] .colab-df-generate {\n",
              "        background-color: #3B4455;\n",
              "        fill: #D2E3FC;\n",
              "      }\n",
              "\n",
              "      [theme=dark] .colab-df-generate:hover {\n",
              "        background-color: #434B5C;\n",
              "        box-shadow: 0px 1px 3px 1px rgba(0, 0, 0, 0.15);\n",
              "        filter: drop-shadow(0px 1px 2px rgba(0, 0, 0, 0.3));\n",
              "        fill: #FFFFFF;\n",
              "      }\n",
              "    </style>\n",
              "    <button class=\"colab-df-generate\" onclick=\"generateWithVariable('valid')\"\n",
              "            title=\"Generate code using this dataframe.\"\n",
              "            style=\"display:none;\">\n",
              "\n",
              "  <svg xmlns=\"http://www.w3.org/2000/svg\" height=\"24px\"viewBox=\"0 0 24 24\"\n",
              "       width=\"24px\">\n",
              "    <path d=\"M7,19H8.4L18.45,9,17,7.55,7,17.6ZM5,21V16.75L18.45,3.32a2,2,0,0,1,2.83,0l1.4,1.43a1.91,1.91,0,0,1,.58,1.4,1.91,1.91,0,0,1-.58,1.4L9.25,21ZM18.45,9,17,7.55Zm-12,3A5.31,5.31,0,0,0,4.9,8.1,5.31,5.31,0,0,0,1,6.5,5.31,5.31,0,0,0,4.9,4.9,5.31,5.31,0,0,0,6.5,1,5.31,5.31,0,0,0,8.1,4.9,5.31,5.31,0,0,0,12,6.5,5.46,5.46,0,0,0,6.5,12Z\"/>\n",
              "  </svg>\n",
              "    </button>\n",
              "    <script>\n",
              "      (() => {\n",
              "      const buttonEl =\n",
              "        document.querySelector('#id_8d23cd8d-d37d-4d14-800d-ffddb94adab8 button.colab-df-generate');\n",
              "      buttonEl.style.display =\n",
              "        google.colab.kernel.accessAllowed ? 'block' : 'none';\n",
              "\n",
              "      buttonEl.onclick = () => {\n",
              "        google.colab.notebook.generateWithVariable('valid');\n",
              "      }\n",
              "      })();\n",
              "    </script>\n",
              "  </div>\n",
              "\n",
              "    </div>\n",
              "  </div>\n"
            ],
            "application/vnd.google.colaboratory.intrinsic+json": {
              "type": "dataframe",
              "variable_name": "valid",
              "summary": "{\n  \"name\": \"valid\",\n  \"rows\": 868,\n  \"fields\": [\n    {\n      \"column\": [\n        \"Date\",\n        \"\"\n      ],\n      \"properties\": {\n        \"dtype\": \"date\",\n        \"min\": \"2021-10-19 00:00:00\",\n        \"max\": \"2025-04-03 00:00:00\",\n        \"num_unique_values\": 868,\n        \"samples\": [\n          \"2023-05-15 00:00:00\",\n          \"2022-01-24 00:00:00\",\n          \"2023-10-09 00:00:00\"\n        ],\n        \"semantic_type\": \"\",\n        \"description\": \"\"\n      }\n    },\n    {\n      \"column\": [\n        \"Close\",\n        \"AAPL\"\n      ],\n      \"properties\": {\n        \"dtype\": \"number\",\n        \"std\": 31.585625563350376,\n        \"min\": 123.42124938964844,\n        \"max\": 258.39666748046875,\n        \"num_unique_values\": 857,\n        \"samples\": [\n          221.9896697998047,\n          168.69122314453125,\n          162.44139099121094\n        ],\n        \"semantic_type\": \"\",\n        \"description\": \"\"\n      }\n    },\n    {\n      \"column\": [\n        \"Predictions\",\n        \"\"\n      ],\n      \"properties\": {\n        \"dtype\": \"float32\",\n        \"num_unique_values\": 868,\n        \"samples\": [\n          169.4695281982422,\n          165.88502502441406,\n          171.8600616455078\n        ],\n        \"semantic_type\": \"\",\n        \"description\": \"\"\n      }\n    }\n  ]\n}"
            }
          },
          "metadata": {},
          "execution_count": 18
        }
      ]
    },
    {
      "cell_type": "code",
      "source": [
        "#get quote\n",
        "apple_quote = yf.download('AAPL', start='2008-04-04', end='2025-04-04')\n",
        "#creating new dataframe\n",
        "new_df = apple_quote.filter(['Close'])\n",
        "new_df = apple_quote[['Close']]\n",
        "#get the last 60 days closing price values and converting to array\n",
        "last_60_days = new_df[-60:].values\n",
        "\n",
        "#scaling data to be values between 0 and 1\n",
        "last_60_days_scaled = scaler.transform(last_60_days)\n",
        "\n",
        "#creating empty list\n",
        "X_test = []\n",
        "\n",
        "#appending last 60 days\n",
        "X_test.append(last_60_days_scaled)\n",
        "\n",
        "#converting the x_train to aray\n",
        "X_test = np.array(X_test)\n",
        "\n",
        "#reshaping\n",
        "X_test = np.reshape(X_test, (X_test.shape[0], X_test.shape[1], 1))\n",
        "\n",
        "#getting predicted scaled price\n",
        "pred_price = model.predict(X_test)\n",
        "\n",
        "#undo scaling\n",
        "pred_price = scaler.inverse_transform(pred_price)\n",
        "print(pred_price)"
      ],
      "metadata": {
        "colab": {
          "base_uri": "https://localhost:8080/"
        },
        "id": "vbRe46vNbpkK",
        "outputId": "801f652d-916a-42f1-9091-588fc50bae2b"
      },
      "execution_count": 19,
      "outputs": [
        {
          "output_type": "stream",
          "name": "stderr",
          "text": [
            "\r[*********************100%***********************]  1 of 1 completed\n"
          ]
        },
        {
          "output_type": "stream",
          "name": "stdout",
          "text": [
            "\u001b[1m1/1\u001b[0m \u001b[32m━━━━━━━━━━━━━━━━━━━━\u001b[0m\u001b[37m\u001b[0m \u001b[1m0s\u001b[0m 488ms/step\n",
            "[[212.03746]]\n"
          ]
        }
      ]
    },
    {
      "cell_type": "code",
      "source": [
        "#getting actual close price quote\n",
        "apple_quote2 = yf.download('AAPL', start='2025-04-01', end='2025-04-03')\n",
        "print(apple_quote2['Close'])"
      ],
      "metadata": {
        "colab": {
          "base_uri": "https://localhost:8080/"
        },
        "id": "QKv_iqhfdVZG",
        "outputId": "a3d63964-363d-4433-f9d7-b0d59cd76304"
      },
      "execution_count": 20,
      "outputs": [
        {
          "output_type": "stream",
          "name": "stderr",
          "text": [
            "\r[*********************100%***********************]  1 of 1 completed"
          ]
        },
        {
          "output_type": "stream",
          "name": "stdout",
          "text": [
            "Ticker            AAPL\n",
            "Date                  \n",
            "2025-04-01  222.897705\n",
            "2025-04-02  223.596786\n"
          ]
        },
        {
          "output_type": "stream",
          "name": "stderr",
          "text": [
            "\n"
          ]
        }
      ]
    }
  ]
}